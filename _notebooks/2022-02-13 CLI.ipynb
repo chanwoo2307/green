{
 "cells": [
  {
   "cell_type": "markdown",
   "id": "a145332c-cebe-4cfa-a916-779e3955b645",
   "metadata": {},
   "source": [
    "# CLI는 무엇일까?"
   ]
  },
  {
   "cell_type": "markdown",
   "id": "ebb8d044-6da0-4ecb-bfd5-c958070f17f0",
   "metadata": {},
   "source": [
    "옛날에는 윈도우의 검은 화면의 흰 글씨 화면에서 컴퓨터를 다루었다.\n",
    "그것을 CLI(command line interface)라 한다"
   ]
  },
  {
   "cell_type": "markdown",
   "id": "db7a2142-200c-4573-9395-19e81451caed",
   "metadata": {},
   "source": [
    "1968년에 최초의 마우스가 나오면서 아이콘을 클릭해서 대상을 옮기거나 웹페이지 서핑이 가능하게 되었다. "
   ]
  },
  {
   "cell_type": "markdown",
   "id": "30d087d8-a0ab-4321-9d79-59b6cfb6781b",
   "metadata": {},
   "source": [
    "이렇게 GUI(Grapics user interpace)가 발명이 되었다. 하지만 GUI용 프로그램을 바로 코딩을 할 수 없었는데\n",
    "그 이유는 아직 CLI을 대상으로 하는 프로그램을 짜지 못하였기 때문이다."
   ]
  },
  {
   "cell_type": "markdown",
   "id": "29b3294a-f60e-4b6e-897b-8632f74a1c53",
   "metadata": {},
   "source": [
    "## CLI 프로그램"
   ]
  },
  {
   "cell_type": "markdown",
   "id": "8d1907c7-4bcd-4805-9ecc-a77d443e5b84",
   "metadata": {},
   "source": [
    "windows의 대표적인 CLI프로그램은 Cygwin이 있고 리눅스나 MAC은 terminal을 대표적으로 사용한다."
   ]
  },
  {
   "cell_type": "markdown",
   "id": "954efc81-2801-4bf8-be25-204273abb3c8",
   "metadata": {},
   "source": [
    "## CLI의 명령어를 간단하게 알아보자"
   ]
  },
  {
   "cell_type": "markdown",
   "id": "26eef41d-d24b-4b74-b572-9528d40cdbf2",
   "metadata": {},
   "source": [
    "### 1.clear"
   ]
  },
  {
   "cell_type": "markdown",
   "id": "90afd75f-7f54-43a3-aa76-b5be44e8cbf7",
   "metadata": {},
   "source": [
    " clear 명령을 사용하면 화면을 깨끗하게 지울 수 있다."
   ]
  },
  {
   "cell_type": "markdown",
   "id": "ae803ab2-003c-4838-bb3a-c4d476401fcb",
   "metadata": {},
   "source": [
    "### 2.mkdir "
   ]
  },
  {
   "cell_type": "markdown",
   "id": "9497f5ba-66da-4529-8eb2-d6b6db2f1bf1",
   "metadata": {},
   "source": [
    "mkdir은 make directory의 약자로 폴더를 만드는 명렁어이다.\n",
    "mkdir chanwoo를 입력하면 chanwoo라는 폴더가 생성된다."
   ]
  },
  {
   "cell_type": "markdown",
   "id": "dba08f00-338c-49fd-adf1-176afdcc171f",
   "metadata": {},
   "source": [
    "### 3.touch"
   ]
  },
  {
   "cell_type": "markdown",
   "id": "9d31374c-b3fc-4034-abbf-e1d783f15ce1",
   "metadata": {},
   "source": [
    "touch는 파일을 만드는 명령어이다. touch hi.c를 입력하면 hi.c파일이 생성된다."
   ]
  },
  {
   "cell_type": "markdown",
   "id": "3082556e-4203-4ec8-be83-8ef2e5b91b5f",
   "metadata": {},
   "source": [
    "### 4. rm"
   ]
  },
  {
   "cell_type": "markdown",
   "id": "858f6c7f-8a2c-4fcc-b09f-6199fb65fda4",
   "metadata": {},
   "source": [
    "rm은 remove의 약자로 파일을 삭제하는 명령어이다. rm hi.c를 입력하면 hi.c 파일이 삭제된다."
   ]
  },
  {
   "cell_type": "markdown",
   "id": "419dc8d4-36ba-4083-9fad-929e2a21ac87",
   "metadata": {},
   "source": [
    "### 5. rm -r "
   ]
  },
  {
   "cell_type": "markdown",
   "id": "cc00f408-323d-4359-a1b4-f4c906aea0ae",
   "metadata": {},
   "source": [
    "rm -r은 폴더를 삭제하는 명령어이다. rm -r chanwoo를 입력하면 chanwoo라는 폴더가 삭제된다."
   ]
  },
  {
   "cell_type": "markdown",
   "id": "6c43ac92-1721-4f32-ac03-cee5c70faa54",
   "metadata": {},
   "source": [
    "참고로 rm -rf를 입력하면 폴더안에 파일이 너무 많을 때 강제로 폴더를 지울 수 있다. "
   ]
  },
  {
   "cell_type": "markdown",
   "id": "eb46ff46-79e1-4cef-9948-06675d70ad26",
   "metadata": {},
   "source": [
    "### 6. ls"
   ]
  },
  {
   "cell_type": "markdown",
   "id": "58f00b20-917a-4627-b079-16c441fc870a",
   "metadata": {},
   "source": [
    "ls는 list의 약자로 ls 명령어를 사용하면 현제 디렉토리에 있는 폴더의 이름이나 파일의 이름을 알 수 있다."
   ]
  },
  {
   "cell_type": "markdown",
   "id": "6c9f95c7-d3c2-49e1-a2a1-d4562765ef0e",
   "metadata": {},
   "source": [
    "### 6.1 ls -l"
   ]
  },
  {
   "cell_type": "markdown",
   "id": "e98ef123-b22a-4e56-835e-efb494a6b7de",
   "metadata": {},
   "source": [
    "list 형식으로 현제 디렉토리에 있는 폴더의 이름이나 파일의 이름을 알 수 있으며 각각의 파일이나 폴더가 언제 만들었는지도 알 수 있다."
   ]
  },
  {
   "cell_type": "markdown",
   "id": "14363be3-0228-4ec6-954a-8fdf159bac42",
   "metadata": {},
   "source": [
    "### 6.2 ls -a"
   ]
  },
  {
   "cell_type": "markdown",
   "id": "fc86165a-dd4a-43fa-a062-d212d28c866d",
   "metadata": {},
   "source": [
    "ls -a를 명령어를 입력하면 숨김 파일도 볼 수 있으며  .은 자기 자신을 의미하고  ..은 자신의 상위 디렉토리를 의미한다."
   ]
  },
  {
   "cell_type": "markdown",
   "id": "9015f2e4-14ed-434c-8201-61fc8dc2520e",
   "metadata": {},
   "source": [
    "### 7. cd"
   ]
  },
  {
   "cell_type": "markdown",
   "id": "af78b6eb-7c2e-44c1-a1bf-0c3e610eb9cf",
   "metadata": {},
   "source": [
    "cd는 change directory의 약자로 cd chanwoo를 입력하면 chanwoo 폴더에 들어갈 수 있다. cd ..을 입력하면 자신의 상위 디렉토리로 이동할 수 있다."
   ]
  },
  {
   "cell_type": "code",
   "execution_count": null,
   "id": "67cdbd48-c829-4901-8dc7-6a8bec1ff506",
   "metadata": {},
   "outputs": [],
   "source": []
  }
 ],
 "metadata": {
  "kernelspec": {
   "display_name": "Python 3",
   "language": "python",
   "name": "python3"
  },
  "language_info": {
   "codemirror_mode": {
    "name": "ipython",
    "version": 3
   },
   "file_extension": ".py",
   "mimetype": "text/x-python",
   "name": "python",
   "nbconvert_exporter": "python",
   "pygments_lexer": "ipython3",
   "version": "3.8.8"
  }
 },
 "nbformat": 4,
 "nbformat_minor": 5
}
