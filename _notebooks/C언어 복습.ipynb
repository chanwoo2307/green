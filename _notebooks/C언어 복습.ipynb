{
 "cells": [
  {
   "cell_type": "markdown",
   "id": "df196a32-96d3-46a1-a589-4150084da1c1",
   "metadata": {},
   "source": [
    "## C언어 복습"
   ]
  },
  {
   "cell_type": "markdown",
   "id": "4a6cab97-20cc-45d9-81ba-59216937c144",
   "metadata": {},
   "source": [
    "### 구조체"
   ]
  },
  {
   "cell_type": "raw",
   "id": "36320ce8-639e-4343-8597-899f6921ae31",
   "metadata": {},
   "source": [
    "typedef struct stdent{ // 변수의 정의 \n",
    "    int num;\n",
    "    char name[10];\n",
    "    char phone[12]; //010-xxxx-xxxx (번호는 11자 이지만) char형의 특성상 마지막은 비워주어야 하기 때문에 11자를 쓰기 위해서는 12칸이 필요\n",
    "    int kor;\n",
    "    int eng;\n",
    "    int math;\n",
    "} Student;\n",
    "\n",
    "void setStudent(Student *std){\n",
    "    \n",
    "    (*std).kor=80;\n",
    "    \n",
    "    (*std).eng=70;\n",
    "    \n",
    "    (*std).math =  60;\n",
    "    \n",
    "    \n",
    "  /* std->kor= 80; \n",
    "   std->eng= 70;\n",
    "   std->math= 60; */ 위와 같은 의미\n",
    "   \n",
    "int main(){\n",
    "    Student A; // struct student A d와 같은 의미 \n",
    "    setStudent(&A);\n",
    "    printf(\"%d\" %d %d\\n\", A.kor, A.eng, A.math);"
   ]
  },
  {
   "cell_type": "raw",
   "id": "e6980fa6-6672-4f95-9fbe-61827b80b88c",
   "metadata": {},
   "source": [
    "구조체 Student에는 num과 name kor, eng, math에 대한 자료형이 정의되어 있고\n",
    "main함수를 해석하면 \n",
    "구조체 Student변수 A 또한num과 name kor, eng, math에 대한 자료형이 정의되어 있다.\n",
    "setStudent(&A)에서 구조체 Student 변수 A의 주소가 std에 들어가고 *std가 A에 접근해서 A.kor, A.eng, A.math의 값을 바꾸게 된다. \n",
    "\n"
   ]
  },
  {
   "cell_type": "raw",
   "id": "6a47147f-1729-4d34-81c8-e9984af28855",
   "metadata": {},
   "source": [
    "typedef struct stdent{\n",
    "    \n",
    "}Student; \n",
    "typedef (struct stdent)을 Student 으로 부르겠다라고 선언한 것임"
   ]
  },
  {
   "cell_type": "code",
   "execution_count": null,
   "id": "e07c5d98-5695-4e88-b607-0b442079b16d",
   "metadata": {},
   "outputs": [],
   "source": []
  }
 ],
 "metadata": {
  "kernelspec": {
   "display_name": "Python 3",
   "language": "python",
   "name": "python3"
  },
  "language_info": {
   "codemirror_mode": {
    "name": "ipython",
    "version": 3
   },
   "file_extension": ".py",
   "mimetype": "text/x-python",
   "name": "python",
   "nbconvert_exporter": "python",
   "pygments_lexer": "ipython3",
   "version": "3.8.8"
  }
 },
 "nbformat": 4,
 "nbformat_minor": 5
}
