{
 "cells": [
  {
   "cell_type": "code",
   "execution_count": null,
   "id": "bda2813e-2e47-4389-b5d8-7d9081d2985a",
   "metadata": {},
   "outputs": [],
   "source": [
    "test"
   ]
  },
  {
   "cell_type": "markdown",
   "id": "2067926d-35e1-490e-9c30-316663b1f1c8",
   "metadata": {},
   "source": [
    "how to fight"
   ]
  },
  {
   "cell_type": "markdown",
   "id": "a4a8e8b0-682f-4896-880c-2c6c6ec16c6e",
   "metadata": {},
   "source": [
    "lookism"
   ]
  },
  {
   "cell_type": "code",
   "execution_count": null,
   "id": "6532800b-354f-4365-a872-b68e35b2c02f",
   "metadata": {},
   "outputs": [],
   "source": []
  }
 ],
 "metadata": {
  "kernelspec": {
   "display_name": "Python 3",
   "language": "python",
   "name": "python3"
  },
  "language_info": {
   "codemirror_mode": {
    "name": "ipython",
    "version": 3
   },
   "file_extension": ".py",
   "mimetype": "text/x-python",
   "name": "python",
   "nbconvert_exporter": "python",
   "pygments_lexer": "ipython3",
   "version": "3.8.8"
  }
 },
 "nbformat": 4,
 "nbformat_minor": 5
}
