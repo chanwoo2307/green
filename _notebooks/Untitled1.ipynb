{
 "cells": [
  {
   "cell_type": "code",
   "execution_count": null,
   "id": "bda2813e-2e47-4389-b5d8-7d9081d2985a",
   "metadata": {},
   "outputs": [],
   "source": [
    "test"
   ]
  },
  {
   "cell_type": "markdown",
   "id": "9f877547-5262-41f7-b00e-a0e045c350ea",
   "metadata": {},
   "source": [
    "windows test"
   ]
  },
  {
   "cell_type": "markdown",
   "id": "1afa5dcd-3ce2-415a-b221-768de0b7e2c2",
   "metadata": {},
   "source": [
    "2020-02-20`"
   ]
  },
  {
   "cell_type": "code",
   "execution_count": null,
   "id": "dfaf4f2c-9c5d-42cc-8d26-a2da3e72340a",
   "metadata": {},
   "outputs": [],
   "source": []
  }
 ],
 "metadata": {
  "kernelspec": {
   "display_name": "Python 3",
   "language": "python",
   "name": "python3"
  },
  "language_info": {
   "codemirror_mode": {
    "name": "ipython",
    "version": 3
   },
   "file_extension": ".py",
   "mimetype": "text/x-python",
   "name": "python",
   "nbconvert_exporter": "python",
   "pygments_lexer": "ipython3",
   "version": "3.8.8"
  }
 },
 "nbformat": 4,
 "nbformat_minor": 5
}
