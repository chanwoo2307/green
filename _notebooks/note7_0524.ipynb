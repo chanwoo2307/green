{
 "cells": [
  {
   "cell_type": "markdown",
   "id": "a8d0446d-7978-4a3a-80a0-e7fe2d0f88bb",
   "metadata": {},
   "source": [
    "# 7. Class 고급"
   ]
  },
  {
   "cell_type": "markdown",
   "id": "c408b0a2-d0cc-4d2a-b870-b1cc84d388a8",
   "metadata": {},
   "source": [
    "## 클래스, 인스턴스, 오브젝트 "
   ]
  },
  {
   "cell_type": "markdown",
   "id": "c716d4c1-b529-4766-940b-d63cea6c55e5",
   "metadata": {},
   "source": [
    "`-` 오브젝트\n",
    "- 클래스 오브젝트\n",
    "- 인스턴스 오브젝트 "
   ]
  },
  {
   "cell_type": "markdown",
   "id": "6558f689-8ed2-4e37-8bdf-3b540254a6b0",
   "metadata": {},
   "source": [
    "`-` 클래스 (=클래스 오브젝트)"
   ]
  },
  {
   "cell_type": "markdown",
   "id": "b69b6e20-23d6-4efb-96dc-e75b36e4e0e6",
   "metadata": {},
   "source": [
    "`-` 인스턴스 (=인스턴스 오브젝트)"
   ]
  },
  {
   "cell_type": "markdown",
   "id": "92f8cfd4-e6f5-4973-8bc2-c6847890f436",
   "metadata": {},
   "source": [
    "## 클래스 속성 vs 인스턴스 속성"
   ]
  },
  {
   "cell_type": "markdown",
   "id": "6459c59f-e3fb-4e71-82af-e692a848374f",
   "metadata": {},
   "source": [
    "### 예제1"
   ]
  },
  {
   "cell_type": "code",
   "execution_count": null,
   "id": "06d25704-eb56-42ba-b285-aa0b3d58e9d4",
   "metadata": {},
   "outputs": [],
   "source": [
    "class Testclass1: \n",
    "    x=0 \n",
    "    y=0\n",
    "    def my_print(self):\n",
    "        self.x += 1 \n",
    "        Testclass1.y +=1 \n",
    "        print(\"현재 인스턴스에서 %s 회 출력\" % self.x)\n",
    "        print(\"전체 인스턴스에서 총 %s 회 출력\" % self.y)"
   ]
  },
  {
   "cell_type": "code",
   "execution_count": null,
   "id": "9a481bfd-da09-4ca0-88db-31ca7205cbe0",
   "metadata": {},
   "outputs": [],
   "source": [
    "f=Testclass1"
   ]
  },
  {
   "cell_type": "code",
   "execution_count": null,
   "id": "1928363d-b171-4254-8fda-ebed4ea634ac",
   "metadata": {},
   "outputs": [],
   "source": [
    "a=Testclass1()"
   ]
  },
  {
   "cell_type": "code",
   "execution_count": null,
   "id": "88c9410d-15e1-4c43-8f9e-318fb0605f67",
   "metadata": {},
   "outputs": [],
   "source": [
    "b=f()"
   ]
  },
  {
   "cell_type": "code",
   "execution_count": null,
   "id": "d56a5e3e-2561-4319-a0db-8051144b139c",
   "metadata": {},
   "outputs": [],
   "source": [
    "a.my_print()"
   ]
  },
  {
   "cell_type": "code",
   "execution_count": null,
   "id": "ddce5638-3464-4cf8-bdfa-e14c33580a6c",
   "metadata": {},
   "outputs": [],
   "source": [
    "b.my_print()"
   ]
  },
  {
   "cell_type": "code",
   "execution_count": null,
   "id": "b610249c-c2b2-45a2-802d-f036a2225044",
   "metadata": {},
   "outputs": [],
   "source": [
    "b.my_print()"
   ]
  },
  {
   "cell_type": "code",
   "execution_count": null,
   "id": "4442be31-4376-4184-b925-efb513d713de",
   "metadata": {},
   "outputs": [],
   "source": [
    "a.my_print()"
   ]
  },
  {
   "cell_type": "code",
   "execution_count": null,
   "id": "00fb63e3-367f-40a4-966c-99f2b26428e0",
   "metadata": {},
   "outputs": [],
   "source": [
    "a.my_print()"
   ]
  },
  {
   "cell_type": "markdown",
   "id": "8234a75e-e929-4abb-8b14-0a0da032a4c4",
   "metadata": {},
   "source": [
    "`-` 신기한점: 각 인스턴스에서 instance.my_print()를 실행한 횟수를 서로 공유하는 듯 하다. "
   ]
  },
  {
   "cell_type": "markdown",
   "id": "48287677-ccd7-43d8-93e7-1d0c51a5dc68",
   "metadata": {},
   "source": [
    "#### 분석"
   ]
  },
  {
   "cell_type": "markdown",
   "id": "fcaa6434-9f2e-448e-b755-fb317b450c4a",
   "metadata": {},
   "source": [
    "`-` 코드를 시점별로 분석해보자. "
   ]
  },
  {
   "cell_type": "markdown",
   "id": "e8e65860-19fc-47e6-b263-09bb9dba5926",
   "metadata": {},
   "source": [
    "`-` 분석을 위해서 커널을 재시작한다. "
   ]
  },
  {
   "cell_type": "markdown",
   "id": "87187a3f-bf84-466d-8aaa-ce5ecfe0f59a",
   "metadata": {},
   "source": [
    "[시점1]: Testclass1를 선언하는 시점"
   ]
  },
  {
   "cell_type": "code",
   "execution_count": 5,
   "id": "3fd95849-0df3-408f-9548-52579c5d59da",
   "metadata": {},
   "outputs": [],
   "source": [
    "class Testclass1: \n",
    "    x=0 \n",
    "    y=0\n",
    "    def my_print(self):\n",
    "        self.x += 1 \n",
    "        Testclass1.y +=1 \n",
    "        print(\"현재 인스턴스에서 %s 회 출력\" % self.x)\n",
    "        print(\"전체 인스턴스에서 총 %s 회 출력\" % self.y)"
   ]
  },
  {
   "cell_type": "code",
   "execution_count": 7,
   "id": "fcf26817-922d-49ae-af9b-c1874107e925",
   "metadata": {},
   "outputs": [
    {
     "data": {
      "text/plain": [
       "['__class__',\n",
       " '__delattr__',\n",
       " '__dict__',\n",
       " '__dir__',\n",
       " '__doc__',\n",
       " '__eq__',\n",
       " '__format__',\n",
       " '__ge__',\n",
       " '__getattribute__',\n",
       " '__gt__',\n",
       " '__hash__',\n",
       " '__init__',\n",
       " '__init_subclass__',\n",
       " '__le__',\n",
       " '__lt__',\n",
       " '__module__',\n",
       " '__ne__',\n",
       " '__new__',\n",
       " '__reduce__',\n",
       " '__reduce_ex__',\n",
       " '__repr__',\n",
       " '__setattr__',\n",
       " '__sizeof__',\n",
       " '__str__',\n",
       " '__subclasshook__',\n",
       " '__weakref__',\n",
       " 'my_print',\n",
       " 'x',\n",
       " 'y']"
      ]
     },
     "execution_count": 7,
     "metadata": {},
     "output_type": "execute_result"
    }
   ],
   "source": [
    "dir(Testclass1)"
   ]
  },
  {
   "cell_type": "code",
   "execution_count": 8,
   "id": "7bd01410-aa65-4910-b401-3c6469383cf6",
   "metadata": {},
   "outputs": [
    {
     "ename": "NameError",
     "evalue": "name 'a' is not defined",
     "output_type": "error",
     "traceback": [
      "\u001b[0;31m---------------------------------------------------------------------------\u001b[0m",
      "\u001b[0;31mNameError\u001b[0m                                 Traceback (most recent call last)",
      "\u001b[0;32m<ipython-input-8-3af1c875b71a>\u001b[0m in \u001b[0;36m<module>\u001b[0;34m\u001b[0m\n\u001b[0;32m----> 1\u001b[0;31m \u001b[0mdir\u001b[0m\u001b[0;34m(\u001b[0m\u001b[0ma\u001b[0m\u001b[0;34m)\u001b[0m\u001b[0;34m\u001b[0m\u001b[0;34m\u001b[0m\u001b[0m\n\u001b[0m",
      "\u001b[0;31mNameError\u001b[0m: name 'a' is not defined"
     ]
    }
   ],
   "source": [
    "dir(a)"
   ]
  },
  {
   "cell_type": "code",
   "execution_count": 9,
   "id": "8fc5a2a0-0383-485c-a6f1-96523abd0523",
   "metadata": {},
   "outputs": [
    {
     "ename": "NameError",
     "evalue": "name 'b' is not defined",
     "output_type": "error",
     "traceback": [
      "\u001b[0;31m---------------------------------------------------------------------------\u001b[0m",
      "\u001b[0;31mNameError\u001b[0m                                 Traceback (most recent call last)",
      "\u001b[0;32m<ipython-input-9-35660f044d44>\u001b[0m in \u001b[0;36m<module>\u001b[0;34m\u001b[0m\n\u001b[0;32m----> 1\u001b[0;31m \u001b[0mdir\u001b[0m\u001b[0;34m(\u001b[0m\u001b[0mb\u001b[0m\u001b[0;34m)\u001b[0m\u001b[0;34m\u001b[0m\u001b[0;34m\u001b[0m\u001b[0m\n\u001b[0m",
      "\u001b[0;31mNameError\u001b[0m: name 'b' is not defined"
     ]
    }
   ],
   "source": [
    "dir(b)"
   ]
  },
  {
   "cell_type": "markdown",
   "id": "41e0605c-1e3d-4555-86a7-aa19bf8b1cad",
   "metadata": {},
   "source": [
    "`–` 이 시점에는 Testclass1만이 존재한다. Testclass1를 바로 클래스 오브젝트라고 부름. "
   ]
  },
  {
   "cell_type": "code",
   "execution_count": 11,
   "id": "58699d52-0a48-4d75-b858-9b94daf382ad",
   "metadata": {},
   "outputs": [
    {
     "data": {
      "text/plain": [
       "0"
      ]
     },
     "execution_count": 11,
     "metadata": {},
     "output_type": "execute_result"
    }
   ],
   "source": [
    "Testclass1.x"
   ]
  },
  {
   "cell_type": "code",
   "execution_count": 12,
   "id": "da3e0c2a-f686-4282-b274-a3444201deb1",
   "metadata": {},
   "outputs": [
    {
     "data": {
      "text/plain": [
       "0"
      ]
     },
     "execution_count": 12,
     "metadata": {},
     "output_type": "execute_result"
    }
   ],
   "source": [
    "Testclass1.y"
   ]
  },
  {
   "cell_type": "markdown",
   "id": "dbbe1ebf-e4ee-434b-81c6-22956a641e9d",
   "metadata": {},
   "source": [
    "`–` 현재시점에서는 클래스 오브젝트의 수 1개, 인스턴스 오브젝트의 수 0개, 따라서 총 오브젝트 수는 1개임. "
   ]
  },
  {
   "cell_type": "markdown",
   "id": "102aa36b-856f-415d-90ee-e9c3ac555ff8",
   "metadata": {},
   "source": [
    "[시점2] 클래스에 별칭을 지정하는 시점 "
   ]
  },
  {
   "cell_type": "code",
   "execution_count": 13,
   "id": "61e21255-d4c2-4a66-a915-adfc420b4abc",
   "metadata": {},
   "outputs": [],
   "source": [
    "f=Testclass1"
   ]
  },
  {
   "cell_type": "code",
   "execution_count": 14,
   "id": "02835c8f-bf8c-4acb-88b6-b3b912777c3e",
   "metadata": {},
   "outputs": [
    {
     "data": {
      "text/plain": [
       "0"
      ]
     },
     "execution_count": 14,
     "metadata": {},
     "output_type": "execute_result"
    }
   ],
   "source": [
    "f.x"
   ]
  },
  {
   "cell_type": "code",
   "execution_count": 15,
   "id": "514106c4-29e4-4bf5-bdf3-3252c13818ca",
   "metadata": {},
   "outputs": [
    {
     "data": {
      "text/plain": [
       "0"
      ]
     },
     "execution_count": 15,
     "metadata": {},
     "output_type": "execute_result"
    }
   ],
   "source": [
    "f.y"
   ]
  },
  {
   "cell_type": "code",
   "execution_count": 16,
   "id": "25213adb-5491-455f-9512-b1a9b2279a32",
   "metadata": {},
   "outputs": [
    {
     "data": {
      "text/plain": [
       "0"
      ]
     },
     "execution_count": 16,
     "metadata": {},
     "output_type": "execute_result"
    }
   ],
   "source": [
    "Testclass1.x"
   ]
  },
  {
   "cell_type": "code",
   "execution_count": 17,
   "id": "de90133e-eb3d-463c-b965-ca6f9f02fcf2",
   "metadata": {},
   "outputs": [
    {
     "data": {
      "text/plain": [
       "0"
      ]
     },
     "execution_count": 17,
     "metadata": {},
     "output_type": "execute_result"
    }
   ],
   "source": [
    "Testclass1.y"
   ]
  },
  {
   "cell_type": "markdown",
   "id": "a3914dd2-fe3d-4f89-92fa-47f7554eab54",
   "metadata": {},
   "source": [
    "`–` 이 시점에서 클래스 오브젝트는 2개가 있는 것 처럼 보인다. "
   ]
  },
  {
   "cell_type": "markdown",
   "id": "e689a98f-908b-4961-abef-87b855d3c266",
   "metadata": {},
   "source": [
    "`-` 그렇다면 이 2개의 클래스 오브젝트는 컴퓨터의 어딘가에 저장이 되어 있을 것이다. "
   ]
  },
  {
   "cell_type": "markdown",
   "id": "c28c7a39-5c4b-4bb7-a3a6-ec8591ffa8d7",
   "metadata": {},
   "source": [
    "`-` 구체적으로는 메모리에 저장되어있을것. "
   ]
  },
  {
   "cell_type": "markdown",
   "id": "7222d6ef-1912-47a3-8818-a5c557f6b261",
   "metadata": {},
   "source": [
    "`-` 2개의 클래스오브젝트는 서로 다른 메모리 공간에 저장되어 있을것이다."
   ]
  },
  {
   "cell_type": "markdown",
   "id": "519d0bba-51c1-41f6-94f3-822799dffb72",
   "metadata": {},
   "source": [
    "`-` 진짜인가? 확인해보자. `id()`는 오브젝트(클래스 오브젝트, 인스턴스 오브젝트)가 저장된 메모리 주소를 확인하는 명령어이다. "
   ]
  },
  {
   "cell_type": "code",
   "execution_count": 18,
   "id": "ee41f505-4fb5-4c8d-b417-e703b6892af9",
   "metadata": {},
   "outputs": [
    {
     "data": {
      "text/plain": [
       "93967322676384"
      ]
     },
     "execution_count": 18,
     "metadata": {},
     "output_type": "execute_result"
    }
   ],
   "source": [
    "id(f)"
   ]
  },
  {
   "cell_type": "markdown",
   "id": "d0174e01-da43-4ef6-acca-3b8d20b47f98",
   "metadata": {},
   "source": [
    "`–` f라는 오브젝트는 93967322676384 메모리에 저장되어 있다. "
   ]
  },
  {
   "cell_type": "code",
   "execution_count": 19,
   "id": "88682f4b-0cf3-4568-ae6a-f7b3907a2ba3",
   "metadata": {},
   "outputs": [
    {
     "data": {
      "text/plain": [
       "93967322676384"
      ]
     },
     "execution_count": 19,
     "metadata": {},
     "output_type": "execute_result"
    }
   ],
   "source": [
    "id(Testclass1)"
   ]
  },
  {
   "cell_type": "markdown",
   "id": "0e68a932-350e-4133-85ca-456492f22ade",
   "metadata": {},
   "source": [
    "`-` 어? 그런데 Testclass1의 오브젝트 역시 93967322676384 메모리에 저장되어 있다. "
   ]
  },
  {
   "cell_type": "markdown",
   "id": "5c8e43d2-404d-4a3a-a2ee-76e950f3c603",
   "metadata": {},
   "source": [
    "`-` 추론: 사실 93967322676384라는 메모리공간에 저장된 어떠한 것은 동일한데, 그것을 어떤사람은 `Testclass1` 이라고 부르고 어떤사람은 `f`라고 부른다. "
   ]
  },
  {
   "cell_type": "markdown",
   "id": "efeec4ca-f258-4e3c-af1e-bd276ead22f5",
   "metadata": {},
   "source": [
    "`-` 이는 마치 별명이랑 비슷하다. 나라는 오브젝트를 어떤사람은 `최규빈`이라고 부르고, 어떤사람은 `팬더`라고 부른다. 부르는 이름이 2개라고 해서 나라는 오브젝트가 2개가 있는것은 아니다. "
   ]
  },
  {
   "cell_type": "markdown",
   "id": "2ef0acb3-4030-44a4-9344-18645ccdfb5f",
   "metadata": {},
   "source": [
    "`-` 결국 이 시점에서 클래스 오브젝트의 수는 여전히 1개라고 볼 수 있다. (인스턴스 오브젝트의 수는 0개)"
   ]
  },
  {
   "cell_type": "markdown",
   "id": "096b313e-4ec8-499f-99fa-211a292a4247",
   "metadata": {},
   "source": [
    "[시점3]: 클래스 오브젝트로부터 인스턴스 오브젝트를 만드는 시점"
   ]
  },
  {
   "cell_type": "code",
   "execution_count": 20,
   "id": "c580f65b-92e7-4195-8894-75b2f6eef488",
   "metadata": {},
   "outputs": [],
   "source": [
    "a=Testclass1()\n",
    "b=f()"
   ]
  },
  {
   "cell_type": "code",
   "execution_count": 24,
   "id": "9bf086cc-1b90-4eac-af17-dfa97d279fd8",
   "metadata": {},
   "outputs": [
    {
     "data": {
      "text/plain": [
       "(93967322676384, 93967322676384, 139694857660688, 139694848860656)"
      ]
     },
     "execution_count": 24,
     "metadata": {},
     "output_type": "execute_result"
    }
   ],
   "source": [
    "id(Testclass1),id(f),id(a),id(b)"
   ]
  },
  {
   "cell_type": "markdown",
   "id": "251bcebd-a05a-4d3a-838a-36db333954fd",
   "metadata": {},
   "source": [
    "`–` 이 순간에는 클래스 오브젝트 1개, 인스턴스 오브젝트 2개 존재한다. 즉 총 3개의 오브젝트가 존재한다. "
   ]
  },
  {
   "cell_type": "markdown",
   "id": "2af28e31-f2a3-45ae-8b15-82ad5b17b156",
   "metadata": {},
   "source": [
    "`-` 메모리주소 93967322676384 에 존재하는 오브젝트는 클래스 오브젝트이며 Testclass1 또는 f 라고 불린다. "
   ]
  },
  {
   "cell_type": "markdown",
   "id": "83deff9e-3dbd-446f-a9ed-a87c0f4e23cc",
   "metadata": {},
   "source": [
    "`-` 메모리주소 139694857660688 에 존재하는 오브젝트는 인스턴스 오브젝트이며 a라고 불린다. "
   ]
  },
  {
   "cell_type": "markdown",
   "id": "8a918c96-88d7-48e4-9173-1663b54ec6da",
   "metadata": {},
   "source": [
    "`-` 메모리주소 139694848860656 에 존재하는 오브젝트는 인스턴스 오브젝트이며 b라고 불린다. "
   ]
  },
  {
   "cell_type": "code",
   "execution_count": 26,
   "id": "7d74e43f-40d6-4153-8bda-137dcb653364",
   "metadata": {},
   "outputs": [
    {
     "data": {
      "text/plain": [
       "(0, 0)"
      ]
     },
     "execution_count": 26,
     "metadata": {},
     "output_type": "execute_result"
    }
   ],
   "source": [
    "Testclass1.x, Testclass1.y"
   ]
  },
  {
   "cell_type": "code",
   "execution_count": 29,
   "id": "a2c27f59-7e61-4b5d-a7d0-5d0c3b27524d",
   "metadata": {},
   "outputs": [
    {
     "data": {
      "text/plain": [
       "(0, 0)"
      ]
     },
     "execution_count": 29,
     "metadata": {},
     "output_type": "execute_result"
    }
   ],
   "source": [
    "f.x,f.y"
   ]
  },
  {
   "cell_type": "code",
   "execution_count": 27,
   "id": "8c01c82a-537b-46a1-9510-7042b98bd77b",
   "metadata": {},
   "outputs": [
    {
     "data": {
      "text/plain": [
       "(0, 0)"
      ]
     },
     "execution_count": 27,
     "metadata": {},
     "output_type": "execute_result"
    }
   ],
   "source": [
    "a.x,a.y"
   ]
  },
  {
   "cell_type": "code",
   "execution_count": 28,
   "id": "96a0d870-d1da-4db8-92c4-b1d33b90298b",
   "metadata": {},
   "outputs": [
    {
     "data": {
      "text/plain": [
       "(0, 0)"
      ]
     },
     "execution_count": 28,
     "metadata": {},
     "output_type": "execute_result"
    }
   ],
   "source": [
    "b.x,b.y"
   ]
  },
  {
   "cell_type": "markdown",
   "id": "2f34d8a8-579e-4a40-b9fd-c83fcd0dce38",
   "metadata": {},
   "source": [
    "[시점4]"
   ]
  },
  {
   "cell_type": "code",
   "execution_count": 30,
   "id": "f707609b-1b35-4f1e-9a52-d4ed5aab81b4",
   "metadata": {},
   "outputs": [
    {
     "name": "stdout",
     "output_type": "stream",
     "text": [
      "현재 인스턴스에서 1 회 출력\n",
      "전체 인스턴스에서 총 1 회 출력\n"
     ]
    }
   ],
   "source": [
    "a.my_print()"
   ]
  },
  {
   "cell_type": "code",
   "execution_count": 31,
   "id": "36e696d0-5186-4b28-8cbe-c5d85098d4df",
   "metadata": {},
   "outputs": [
    {
     "data": {
      "text/plain": [
       "((0, 1), (1, 1), (0, 1))"
      ]
     },
     "execution_count": 31,
     "metadata": {},
     "output_type": "execute_result"
    }
   ],
   "source": [
    "(f.x,f.y),(a.x,a.y),(b.x,b.y)"
   ]
  },
  {
   "cell_type": "markdown",
   "id": "699a1f1c-86db-4ab7-9a0f-7f11be5d5099",
   "metadata": {},
   "source": [
    "`-` 특징 \n",
    " - a.my_print()를 실행하면 a.x 의 값이 1이 증가한다. \n",
    " - a.my_print()를 실행하면 f.y, a.y, b.y 의 값이 동시에 1이 증가한다. (공유가 되는 느낌)"
   ]
  },
  {
   "cell_type": "markdown",
   "id": "7a911f84-93d7-4862-aba1-2f176010acbe",
   "metadata": {},
   "source": [
    "[시점5]"
   ]
  },
  {
   "cell_type": "code",
   "execution_count": 34,
   "id": "eb1484ab-d24e-40d6-adb2-32356a216600",
   "metadata": {},
   "outputs": [
    {
     "name": "stdout",
     "output_type": "stream",
     "text": [
      "현재 인스턴스에서 1 회 출력\n",
      "전체 인스턴스에서 총 2 회 출력\n"
     ]
    }
   ],
   "source": [
    "b.my_print()"
   ]
  },
  {
   "cell_type": "code",
   "execution_count": 35,
   "id": "4cbf620f-81e7-4004-b9af-558a256389e1",
   "metadata": {},
   "outputs": [
    {
     "data": {
      "text/plain": [
       "((0, 2), (1, 2), (1, 2))"
      ]
     },
     "execution_count": 35,
     "metadata": {},
     "output_type": "execute_result"
    }
   ],
   "source": [
    "(f.x,f.y),(a.x,a.y),(b.x,b.y)"
   ]
  },
  {
   "cell_type": "markdown",
   "id": "0641b575-d883-4a3e-9bfe-8226ef65a207",
   "metadata": {},
   "source": [
    "[시점6]"
   ]
  },
  {
   "cell_type": "code",
   "execution_count": 36,
   "id": "a3d9c5d8-7dd2-4abf-b33b-c7860247414f",
   "metadata": {},
   "outputs": [
    {
     "name": "stdout",
     "output_type": "stream",
     "text": [
      "현재 인스턴스에서 2 회 출력\n",
      "전체 인스턴스에서 총 3 회 출력\n"
     ]
    }
   ],
   "source": [
    "b.my_print()"
   ]
  },
  {
   "cell_type": "code",
   "execution_count": 37,
   "id": "6231167b-1a75-4957-935f-cb2e71720954",
   "metadata": {},
   "outputs": [
    {
     "data": {
      "text/plain": [
       "((0, 3), (1, 3), (2, 3))"
      ]
     },
     "execution_count": 37,
     "metadata": {},
     "output_type": "execute_result"
    }
   ],
   "source": [
    "(f.x,f.y),(a.x,a.y),(b.x,b.y)"
   ]
  },
  {
   "cell_type": "markdown",
   "id": "1e9d88cb-557f-4d83-85c7-e67f03cb0155",
   "metadata": {},
   "source": [
    "[시점7]"
   ]
  },
  {
   "cell_type": "code",
   "execution_count": 38,
   "id": "85c82769-1734-4f25-9830-79664a5affca",
   "metadata": {},
   "outputs": [
    {
     "name": "stdout",
     "output_type": "stream",
     "text": [
      "현재 인스턴스에서 2 회 출력\n",
      "전체 인스턴스에서 총 4 회 출력\n"
     ]
    }
   ],
   "source": [
    "a.my_print()"
   ]
  },
  {
   "cell_type": "code",
   "execution_count": 39,
   "id": "f861a1bb-e82f-42ee-9507-7ae5bc3d5e4e",
   "metadata": {},
   "outputs": [
    {
     "data": {
      "text/plain": [
       "((0, 4), (2, 4), (2, 4))"
      ]
     },
     "execution_count": 39,
     "metadata": {},
     "output_type": "execute_result"
    }
   ],
   "source": [
    "(f.x,f.y),(a.x,a.y),(b.x,b.y)"
   ]
  },
  {
   "cell_type": "markdown",
   "id": "d92479c1-5cd5-49c2-af8d-09b8d81599f4",
   "metadata": {},
   "source": [
    "[시점8]"
   ]
  },
  {
   "cell_type": "code",
   "execution_count": 40,
   "id": "ac27cb77-0d49-4d66-b113-115ceb98514b",
   "metadata": {},
   "outputs": [
    {
     "name": "stdout",
     "output_type": "stream",
     "text": [
      "현재 인스턴스에서 3 회 출력\n",
      "전체 인스턴스에서 총 5 회 출력\n"
     ]
    }
   ],
   "source": [
    "a.my_print()"
   ]
  },
  {
   "cell_type": "code",
   "execution_count": 41,
   "id": "b4f42560-114a-4bbf-9000-7f5da0f06773",
   "metadata": {},
   "outputs": [
    {
     "data": {
      "text/plain": [
       "((0, 5), (3, 5), (2, 5))"
      ]
     },
     "execution_count": 41,
     "metadata": {},
     "output_type": "execute_result"
    }
   ],
   "source": [
    "(f.x,f.y),(a.x,a.y),(b.x,b.y)"
   ]
  },
  {
   "cell_type": "markdown",
   "id": "2795865f-ca70-4ca2-888f-08ec88d3368c",
   "metadata": {},
   "source": [
    "### 예제2"
   ]
  },
  {
   "cell_type": "markdown",
   "id": "5289e7e3-0a9e-49d9-8f4b-b4b8b4fa6474",
   "metadata": {},
   "source": [
    "`-` 아래처럼 코드를 바꿔도 잘 동작할것 같다. "
   ]
  },
  {
   "cell_type": "code",
   "execution_count": 46,
   "id": "9567a705-e95c-4598-a19d-c7ee5a2b13df",
   "metadata": {},
   "outputs": [],
   "source": [
    "class Testclass2: \n",
    "    def __init__(self):\n",
    "        self.x=0\n",
    "        self.y=0\n",
    "    def my_print(self):\n",
    "        self.x += 1 \n",
    "        Testclass2.y +=1 \n",
    "        print(\"현재 인스턴스에서 %s 회 출력\" % self.x)\n",
    "        print(\"전체 인스턴스에서 총 %s 회 출력\" % self.y)"
   ]
  },
  {
   "cell_type": "code",
   "execution_count": 47,
   "id": "72e0c799-0870-4296-8144-01b75157931b",
   "metadata": {},
   "outputs": [],
   "source": [
    "c=Testclass2()"
   ]
  },
  {
   "cell_type": "code",
   "execution_count": 51,
   "id": "14d446f9-807a-47db-89b9-23d7e2777d7c",
   "metadata": {},
   "outputs": [
    {
     "ename": "AttributeError",
     "evalue": "type object 'Testclass2' has no attribute 'y'",
     "output_type": "error",
     "traceback": [
      "\u001b[0;31m---------------------------------------------------------------------------\u001b[0m",
      "\u001b[0;31mAttributeError\u001b[0m                            Traceback (most recent call last)",
      "\u001b[0;32m<ipython-input-51-5500abb1215d>\u001b[0m in \u001b[0;36m<module>\u001b[0;34m\u001b[0m\n\u001b[0;32m----> 1\u001b[0;31m \u001b[0mc\u001b[0m\u001b[0;34m.\u001b[0m\u001b[0mmy_print\u001b[0m\u001b[0;34m(\u001b[0m\u001b[0;34m)\u001b[0m\u001b[0;34m\u001b[0m\u001b[0;34m\u001b[0m\u001b[0m\n\u001b[0m",
      "\u001b[0;32m<ipython-input-46-72dbe3bd77f6>\u001b[0m in \u001b[0;36mmy_print\u001b[0;34m(self)\u001b[0m\n\u001b[1;32m      5\u001b[0m     \u001b[0;32mdef\u001b[0m \u001b[0mmy_print\u001b[0m\u001b[0;34m(\u001b[0m\u001b[0mself\u001b[0m\u001b[0;34m)\u001b[0m\u001b[0;34m:\u001b[0m\u001b[0;34m\u001b[0m\u001b[0;34m\u001b[0m\u001b[0m\n\u001b[1;32m      6\u001b[0m         \u001b[0mself\u001b[0m\u001b[0;34m.\u001b[0m\u001b[0mx\u001b[0m \u001b[0;34m+=\u001b[0m \u001b[0;36m1\u001b[0m\u001b[0;34m\u001b[0m\u001b[0;34m\u001b[0m\u001b[0m\n\u001b[0;32m----> 7\u001b[0;31m         \u001b[0mTestclass2\u001b[0m\u001b[0;34m.\u001b[0m\u001b[0my\u001b[0m \u001b[0;34m+=\u001b[0m\u001b[0;36m1\u001b[0m\u001b[0;34m\u001b[0m\u001b[0;34m\u001b[0m\u001b[0m\n\u001b[0m\u001b[1;32m      8\u001b[0m         \u001b[0mprint\u001b[0m\u001b[0;34m(\u001b[0m\u001b[0;34m\"현재 인스턴스에서 %s 회 출력\"\u001b[0m \u001b[0;34m%\u001b[0m \u001b[0mself\u001b[0m\u001b[0;34m.\u001b[0m\u001b[0mx\u001b[0m\u001b[0;34m)\u001b[0m\u001b[0;34m\u001b[0m\u001b[0;34m\u001b[0m\u001b[0m\n\u001b[1;32m      9\u001b[0m         \u001b[0mprint\u001b[0m\u001b[0;34m(\u001b[0m\u001b[0;34m\"전체 인스턴스에서 총 %s 회 출력\"\u001b[0m \u001b[0;34m%\u001b[0m \u001b[0mself\u001b[0m\u001b[0;34m.\u001b[0m\u001b[0my\u001b[0m\u001b[0;34m)\u001b[0m\u001b[0;34m\u001b[0m\u001b[0;34m\u001b[0m\u001b[0m\n",
      "\u001b[0;31mAttributeError\u001b[0m: type object 'Testclass2' has no attribute 'y'"
     ]
    }
   ],
   "source": [
    "c.my_print()"
   ]
  },
  {
   "cell_type": "markdown",
   "id": "e0ed85e9-b9bc-4528-93b2-b42e8b4da180",
   "metadata": {},
   "source": [
    "`–` 왜 에러가 나는가? "
   ]
  },
  {
   "cell_type": "code",
   "execution_count": 52,
   "id": "7a713afa-d04a-412e-ab03-60faf7922baf",
   "metadata": {},
   "outputs": [
    {
     "data": {
      "text/plain": [
       "['__class__',\n",
       " '__delattr__',\n",
       " '__dict__',\n",
       " '__dir__',\n",
       " '__doc__',\n",
       " '__eq__',\n",
       " '__format__',\n",
       " '__ge__',\n",
       " '__getattribute__',\n",
       " '__gt__',\n",
       " '__hash__',\n",
       " '__init__',\n",
       " '__init_subclass__',\n",
       " '__le__',\n",
       " '__lt__',\n",
       " '__module__',\n",
       " '__ne__',\n",
       " '__new__',\n",
       " '__reduce__',\n",
       " '__reduce_ex__',\n",
       " '__repr__',\n",
       " '__setattr__',\n",
       " '__sizeof__',\n",
       " '__str__',\n",
       " '__subclasshook__',\n",
       " '__weakref__',\n",
       " 'my_print']"
      ]
     },
     "execution_count": 52,
     "metadata": {},
     "output_type": "execute_result"
    }
   ],
   "source": [
    "dir(Testclass2)"
   ]
  },
  {
   "cell_type": "code",
   "execution_count": 53,
   "id": "3223ca3e-86f2-4014-9d5f-a18fa25bd9c8",
   "metadata": {},
   "outputs": [
    {
     "data": {
      "text/plain": [
       "['__class__',\n",
       " '__delattr__',\n",
       " '__dict__',\n",
       " '__dir__',\n",
       " '__doc__',\n",
       " '__eq__',\n",
       " '__format__',\n",
       " '__ge__',\n",
       " '__getattribute__',\n",
       " '__gt__',\n",
       " '__hash__',\n",
       " '__init__',\n",
       " '__init_subclass__',\n",
       " '__le__',\n",
       " '__lt__',\n",
       " '__module__',\n",
       " '__ne__',\n",
       " '__new__',\n",
       " '__reduce__',\n",
       " '__reduce_ex__',\n",
       " '__repr__',\n",
       " '__setattr__',\n",
       " '__sizeof__',\n",
       " '__str__',\n",
       " '__subclasshook__',\n",
       " '__weakref__',\n",
       " 'my_print',\n",
       " 'x',\n",
       " 'y']"
      ]
     },
     "execution_count": 53,
     "metadata": {},
     "output_type": "execute_result"
    }
   ],
   "source": [
    "dir(Testclass1)"
   ]
  },
  {
   "cell_type": "markdown",
   "id": "dfc04125-9ebe-4853-8191-fefd49a67028",
   "metadata": {},
   "source": [
    "`-` 관찰1: Testclass2에서는 Testclass1과는 다르게 x,y가 없다. "
   ]
  },
  {
   "cell_type": "code",
   "execution_count": 54,
   "id": "615b038f-af08-4f5c-8bc4-77d3252b392c",
   "metadata": {},
   "outputs": [
    {
     "data": {
      "text/plain": [
       "['__class__',\n",
       " '__delattr__',\n",
       " '__dict__',\n",
       " '__dir__',\n",
       " '__doc__',\n",
       " '__eq__',\n",
       " '__format__',\n",
       " '__ge__',\n",
       " '__getattribute__',\n",
       " '__gt__',\n",
       " '__hash__',\n",
       " '__init__',\n",
       " '__init_subclass__',\n",
       " '__le__',\n",
       " '__lt__',\n",
       " '__module__',\n",
       " '__ne__',\n",
       " '__new__',\n",
       " '__reduce__',\n",
       " '__reduce_ex__',\n",
       " '__repr__',\n",
       " '__setattr__',\n",
       " '__sizeof__',\n",
       " '__str__',\n",
       " '__subclasshook__',\n",
       " '__weakref__',\n",
       " 'my_print',\n",
       " 'x',\n",
       " 'y']"
      ]
     },
     "execution_count": 54,
     "metadata": {},
     "output_type": "execute_result"
    }
   ],
   "source": [
    "dir(c)"
   ]
  },
  {
   "cell_type": "markdown",
   "id": "f5bf447b-f2c9-4437-b42d-7ee0f1726efe",
   "metadata": {},
   "source": [
    "`–` 관찰2: 그런데 `c`라는 인스턴스 오브젝트에서는 x,y가 있다. "
   ]
  },
  {
   "cell_type": "markdown",
   "id": "ae408f5c-e596-4061-b743-acbffddf5890",
   "metadata": {},
   "source": [
    "`-` 추론: `__init__`함수는 클래스 오브젝트가 만들어지는 시점에서는 실행되지 않고, 인스텐스 오브젝트가 만들어지는 시점에 실행된다."
   ]
  },
  {
   "cell_type": "markdown",
   "id": "c419d3e6-0f46-4cda-aba7-e43e7c334d25",
   "metadata": {},
   "source": [
    "`-` 결국 `__init__`함수의 역할은 클래스 오브젝트에서 인스턴스 오브젝트를 만든후에 초기화를 위해서 실행하는 어떠한 일련의 명령들을 묶어놓은 것에 불과하다. "
   ]
  },
  {
   "cell_type": "markdown",
   "id": "fc6d4039-bfbe-4cc5-ae58-8cd03315c9c3",
   "metadata": {},
   "source": [
    "`–` 즉 위의 코드는 굳이 따지면 아래를 실행한 것과 동일하다. "
   ]
  },
  {
   "cell_type": "code",
   "execution_count": 55,
   "id": "189fc0da-da7e-453a-901b-b3fc0fb482a4",
   "metadata": {},
   "outputs": [],
   "source": [
    "class Testclass2: \n",
    "#     def __init__(self):\n",
    "#         self.x=0\n",
    "#         self.y=0\n",
    "    def my_print(self):\n",
    "        self.x += 1 \n",
    "        Testclass2.y +=1 \n",
    "        print(\"현재 인스턴스에서 %s 회 출력\" % self.x)\n",
    "        print(\"전체 인스턴스에서 총 %s 회 출력\" % self.y)"
   ]
  },
  {
   "cell_type": "code",
   "execution_count": 56,
   "id": "90871b0c-4f86-43a5-8fe6-805e5110c2ec",
   "metadata": {},
   "outputs": [],
   "source": [
    "c=Testclass2()"
   ]
  },
  {
   "cell_type": "code",
   "execution_count": 58,
   "id": "a4256a4a-8d54-4744-89af-67c73c4f974e",
   "metadata": {},
   "outputs": [],
   "source": [
    "c.x=0\n",
    "c.y=0"
   ]
  },
  {
   "cell_type": "markdown",
   "id": "79d81487-28b1-4bfc-84c2-22f48aeb4710",
   "metadata": {},
   "source": [
    "`-` 이 상황에서 \n",
    "```python\n",
    "c.my_print()\n",
    "```\n",
    "를 실행하면\n",
    "```python\n",
    "c.x += 1 \n",
    "Testclass2.y +=1 \n",
    "print(\"현재 인스턴스에서 %s 회 출력\" % c.x)\n",
    "print(\"전체 인스턴스에서 총 %s 회 출력\" % c.y)\n",
    "```\n",
    "이 실행되는데, 이때 Testclass2.y 이 정의되어 있지 않으므로 \n",
    "```python\n",
    "Testclass2.y +=1 \n",
    "```\n",
    "에서 에러가 난다. "
   ]
  },
  {
   "cell_type": "code",
   "execution_count": 63,
   "id": "386253d6-d211-4131-bf7b-eb69529af1de",
   "metadata": {},
   "outputs": [
    {
     "ename": "AttributeError",
     "evalue": "type object 'Testclass2' has no attribute 'y'",
     "output_type": "error",
     "traceback": [
      "\u001b[0;31m---------------------------------------------------------------------------\u001b[0m",
      "\u001b[0;31mAttributeError\u001b[0m                            Traceback (most recent call last)",
      "\u001b[0;32m<ipython-input-63-5500abb1215d>\u001b[0m in \u001b[0;36m<module>\u001b[0;34m\u001b[0m\n\u001b[0;32m----> 1\u001b[0;31m \u001b[0mc\u001b[0m\u001b[0;34m.\u001b[0m\u001b[0mmy_print\u001b[0m\u001b[0;34m(\u001b[0m\u001b[0;34m)\u001b[0m\u001b[0;34m\u001b[0m\u001b[0;34m\u001b[0m\u001b[0m\n\u001b[0m",
      "\u001b[0;32m<ipython-input-55-66666a70bf33>\u001b[0m in \u001b[0;36mmy_print\u001b[0;34m(self)\u001b[0m\n\u001b[1;32m      5\u001b[0m     \u001b[0;32mdef\u001b[0m \u001b[0mmy_print\u001b[0m\u001b[0;34m(\u001b[0m\u001b[0mself\u001b[0m\u001b[0;34m)\u001b[0m\u001b[0;34m:\u001b[0m\u001b[0;34m\u001b[0m\u001b[0;34m\u001b[0m\u001b[0m\n\u001b[1;32m      6\u001b[0m         \u001b[0mself\u001b[0m\u001b[0;34m.\u001b[0m\u001b[0mx\u001b[0m \u001b[0;34m+=\u001b[0m \u001b[0;36m1\u001b[0m\u001b[0;34m\u001b[0m\u001b[0;34m\u001b[0m\u001b[0m\n\u001b[0;32m----> 7\u001b[0;31m         \u001b[0mTestclass2\u001b[0m\u001b[0;34m.\u001b[0m\u001b[0my\u001b[0m \u001b[0;34m+=\u001b[0m\u001b[0;36m1\u001b[0m\u001b[0;34m\u001b[0m\u001b[0;34m\u001b[0m\u001b[0m\n\u001b[0m\u001b[1;32m      8\u001b[0m         \u001b[0mprint\u001b[0m\u001b[0;34m(\u001b[0m\u001b[0;34m\"현재 인스턴스에서 %s 회 출력\"\u001b[0m \u001b[0;34m%\u001b[0m \u001b[0mself\u001b[0m\u001b[0;34m.\u001b[0m\u001b[0mx\u001b[0m\u001b[0;34m)\u001b[0m\u001b[0;34m\u001b[0m\u001b[0;34m\u001b[0m\u001b[0m\n\u001b[1;32m      9\u001b[0m         \u001b[0mprint\u001b[0m\u001b[0;34m(\u001b[0m\u001b[0;34m\"전체 인스턴스에서 총 %s 회 출력\"\u001b[0m \u001b[0;34m%\u001b[0m \u001b[0mself\u001b[0m\u001b[0;34m.\u001b[0m\u001b[0my\u001b[0m\u001b[0;34m)\u001b[0m\u001b[0;34m\u001b[0m\u001b[0;34m\u001b[0m\u001b[0m\n",
      "\u001b[0;31mAttributeError\u001b[0m: type object 'Testclass2' has no attribute 'y'"
     ]
    }
   ],
   "source": [
    "c.my_print()"
   ]
  },
  {
   "cell_type": "markdown",
   "id": "6a2d3496-8d04-4036-8778-6e4ebb1a4711",
   "metadata": {},
   "source": [
    "### 예제 3"
   ]
  },
  {
   "cell_type": "markdown",
   "id": "d4dbfef6-5b1f-4f6f-a917-ff0949030990",
   "metadata": {},
   "source": [
    "`-` 그렇다면 아래와 같이 수정하면 어떨까? "
   ]
  },
  {
   "cell_type": "code",
   "execution_count": 65,
   "id": "0ddd8611-8c9f-48ec-b2ed-b9162633db96",
   "metadata": {},
   "outputs": [],
   "source": [
    "class Testclass3: \n",
    "    def __init__(self):\n",
    "        self.x=0\n",
    "        Testclass3.y=0\n",
    "    def my_print(self):\n",
    "        self.x += 1 \n",
    "        Testclass3.y +=1 \n",
    "        print(\"현재 인스턴스에서 %s 회 출력\" % self.x)\n",
    "        print(\"전체 인스턴스에서 총 %s 회 출력\" % self.y)"
   ]
  },
  {
   "cell_type": "code",
   "execution_count": 67,
   "id": "6a1ecac1-b3c2-4633-a307-4bf433e3019d",
   "metadata": {},
   "outputs": [],
   "source": [
    "a=Testclass3()\n",
    "b=Testclass3()"
   ]
  },
  {
   "cell_type": "code",
   "execution_count": 68,
   "id": "37e7aa26-2855-49f9-981a-d022db49941a",
   "metadata": {},
   "outputs": [
    {
     "name": "stdout",
     "output_type": "stream",
     "text": [
      "현재 인스턴스에서 1 회 출력\n",
      "전체 인스턴스에서 총 1 회 출력\n"
     ]
    }
   ],
   "source": [
    "a.my_print()"
   ]
  },
  {
   "cell_type": "code",
   "execution_count": 69,
   "id": "07ea15be-d39a-4898-a971-3bf68a72c7be",
   "metadata": {},
   "outputs": [
    {
     "name": "stdout",
     "output_type": "stream",
     "text": [
      "현재 인스턴스에서 1 회 출력\n",
      "전체 인스턴스에서 총 2 회 출력\n"
     ]
    }
   ],
   "source": [
    "b.my_print()"
   ]
  },
  {
   "cell_type": "code",
   "execution_count": 70,
   "id": "91110e60-bb4a-49f3-b3a0-6d8c5b51552a",
   "metadata": {},
   "outputs": [
    {
     "name": "stdout",
     "output_type": "stream",
     "text": [
      "현재 인스턴스에서 2 회 출력\n",
      "전체 인스턴스에서 총 3 회 출력\n"
     ]
    }
   ],
   "source": [
    "a.my_print()"
   ]
  },
  {
   "cell_type": "code",
   "execution_count": 71,
   "id": "41c6a620-65bd-4857-a81a-976bbe77393c",
   "metadata": {},
   "outputs": [
    {
     "name": "stdout",
     "output_type": "stream",
     "text": [
      "현재 인스턴스에서 3 회 출력\n",
      "전체 인스턴스에서 총 4 회 출력\n"
     ]
    }
   ],
   "source": [
    "a.my_print()"
   ]
  },
  {
   "cell_type": "code",
   "execution_count": 72,
   "id": "b2860cd0-e019-4b2c-a0d5-e4a37a756f8d",
   "metadata": {},
   "outputs": [
    {
     "name": "stdout",
     "output_type": "stream",
     "text": [
      "현재 인스턴스에서 2 회 출력\n",
      "전체 인스턴스에서 총 5 회 출력\n"
     ]
    }
   ],
   "source": [
    "b.my_print()"
   ]
  },
  {
   "cell_type": "code",
   "execution_count": 73,
   "id": "f319c127-beb4-45f7-b4e8-8c2faf02adda",
   "metadata": {},
   "outputs": [
    {
     "name": "stdout",
     "output_type": "stream",
     "text": [
      "현재 인스턴스에서 3 회 출력\n",
      "전체 인스턴스에서 총 6 회 출력\n"
     ]
    }
   ],
   "source": [
    "b.my_print()"
   ]
  },
  {
   "cell_type": "markdown",
   "id": "647b2f26-148d-4968-9860-c8f27712d6d4",
   "metadata": {},
   "source": [
    "`–` Testclass1과 동일한 기능이 수행되는것 같다. "
   ]
  },
  {
   "cell_type": "markdown",
   "id": "1aa99839-df54-42d3-906a-1e5dcf653a29",
   "metadata": {},
   "source": [
    "`-` 그런데 조금만 생각해보면 엉터리라는 것을 알 수 있다. 아래의 코드를 관찰하여보자. "
   ]
  },
  {
   "cell_type": "code",
   "execution_count": 74,
   "id": "1684d617-866f-4dd6-9658-c6e217fd75f0",
   "metadata": {},
   "outputs": [
    {
     "name": "stdout",
     "output_type": "stream",
     "text": [
      "현재 인스턴스에서 1 회 출력\n",
      "전체 인스턴스에서 총 1 회 출력\n",
      "현재 인스턴스에서 2 회 출력\n",
      "전체 인스턴스에서 총 2 회 출력\n",
      "현재 인스턴스에서 1 회 출력\n",
      "전체 인스턴스에서 총 1 회 출력\n"
     ]
    }
   ],
   "source": [
    "class Testclass3: \n",
    "    def __init__(self):\n",
    "        self.x=0\n",
    "        Testclass3.y=0\n",
    "    def my_print(self):\n",
    "        self.x += 1 \n",
    "        Testclass3.y +=1 \n",
    "        print(\"현재 인스턴스에서 %s 회 출력\" % self.x)\n",
    "        print(\"전체 인스턴스에서 총 %s 회 출력\" % self.y)\n",
    "        \n",
    "a=Testclass3()\n",
    "a.my_print()\n",
    "a.my_print()\n",
    "b=Testclass3()\n",
    "b.my_print()"
   ]
  },
  {
   "cell_type": "markdown",
   "id": "35fa3ea9-be61-44f2-ad0b-14615c486bbd",
   "metadata": {},
   "source": [
    "`-` Testclass3는 인스턴스를 생성할때마다 `y=0`이 설정된다. 그래서 \n",
    "```python\n",
    "b=Testclass3()\n",
    "```\n",
    "이 시점에서 의도하지 않게 '전체 인스턴스에서 출력된 횟수'를 의미하는 `y`가 초기화되었다. "
   ]
  },
  {
   "cell_type": "markdown",
   "id": "2c018d50-de04-4c36-beba-d73b0aa6c1ea",
   "metadata": {},
   "source": [
    "`-` 코드는 엉터리이지만, Testclass3은 의외로 분석할만한 가치가 있다. 특히 위의 실행결과를 시점별로 Testclass1과 비교해보면 재미있다. "
   ]
  },
  {
   "cell_type": "markdown",
   "id": "e439e29d-2e27-4b33-afc6-a4bd5fe8c0dc",
   "metadata": {},
   "source": [
    "`-` Testclass1"
   ]
  },
  {
   "cell_type": "markdown",
   "id": "0844d27a-7f60-4ae1-913c-7d40d7e876f7",
   "metadata": {},
   "source": [
    "```python\n",
    "### Testclass1 \n",
    "## 시점1: 클래스 오브젝트 생성 \n",
    "class Testclass1: \n",
    "    x=0 \n",
    "    y=0\n",
    "    def my_print(self):\n",
    "        self.x += 1 \n",
    "        Testclass1.y +=1 \n",
    "        print(\"현재 인스턴스에서 %s 회 출력\" % self.x)\n",
    "        print(\"전체 인스턴스에서 총 %s 회 출력\" % self.y)\n",
    "## 시점2: 인스턴스 오브젝트 a를 생성 \n",
    "a=Testclass1()\n",
    "## 시점3: a에서 메소드 실행 \n",
    "a.my_print()\n",
    "## 시점4: a에서 메소드를 한번 더 실행 \n",
    "a.my_print()\n",
    "## 시점5: 인스턴스 오브젝트 b를 생성\n",
    "b=Testclass1()\n",
    "## 시점6: b에서 메소드를 실행\n",
    "b.my_print()\n",
    "```"
   ]
  },
  {
   "cell_type": "markdown",
   "id": "93c9860f-2ce8-41b9-a579-745e03e113fb",
   "metadata": {},
   "source": [
    "```\n",
    "현재 인스턴스에서 1 회 출력\n",
    "전체 인스턴스에서 총 1 회 출력\n",
    "현재 인스턴스에서 2 회 출력\n",
    "전체 인스턴스에서 총 2 회 출력\n",
    "현재 인스턴스에서 1 회 출력\n",
    "전체 인스턴스에서 총 3 회 출력\n",
    "```"
   ]
  },
  {
   "cell_type": "markdown",
   "id": "aab67859-17a7-495c-810f-bb4717900701",
   "metadata": {},
   "source": [
    "| |시점1 |시점2 |시점3 | 시점4 | 시점5| 시점6|\n",
    "|:-:|:-:|:-:|:-:|:-:|:-:|:-:|\n",
    "|Testclass1.x|0| 0| 0| 0| 0| 0|\n",
    "|Testclass1.y|0| 0| 1| 2| 2 | 3|\n",
    "|a.x| 값없음     | 0| 1| 2| 2| 2|\n",
    "|a.y| 값없음     | 0| 1| 2| 2| 3|\n",
    "|b.x| 값없음|     값없음| 값없음| 값없음| 0| 1|\n",
    "|b.y| 값없음|     값없음| 값없음| 값없음| 2| 3|"
   ]
  },
  {
   "cell_type": "markdown",
   "id": "68d2aecb-76fe-4b48-a60c-cb171408c6e3",
   "metadata": {},
   "source": [
    "`–` Testclass3"
   ]
  },
  {
   "cell_type": "markdown",
   "id": "b49c81ca-77fe-4c25-b168-78c4bdeb0bf1",
   "metadata": {},
   "source": [
    "```python\n",
    "#### Testclass3\n",
    "## 시점1: 클래스 오브젝트 생성 \n",
    "class Testclass3: \n",
    "    def __init__(self):\n",
    "        self.x=0\n",
    "        Testclass3.y=0\n",
    "    def my_print(self):\n",
    "        self.x += 1 \n",
    "        Testclass3.y +=1 \n",
    "        print(\"현재 인스턴스에서 %s 회 출력\" % self.x)\n",
    "        print(\"전체 인스턴스에서 총 %s 회 출력\" % self.y)\n",
    "## 시점2: 인스턴스 오브젝트 a를 생성 \n",
    "a=Testclass3()\n",
    "## 시점3: a에서 메소드 실행 \n",
    "a.my_print()\n",
    "## 시점4: a에서 메소드를 한번 더 실행 \n",
    "a.my_print()\n",
    "## 시점5: 인스턴스 오브젝트 b를 생성\n",
    "b=Testclass3()\n",
    "## 시점6: b에서 메소드를 실행\n",
    "b.my_print()\n",
    "```"
   ]
  },
  {
   "cell_type": "markdown",
   "id": "7740cf52-81be-4564-b21a-dc6a5e39eef1",
   "metadata": {},
   "source": [
    "```\n",
    "현재 인스턴스에서 1 회 출력\n",
    "전체 인스턴스에서 총 1 회 출력\n",
    "현재 인스턴스에서 2 회 출력\n",
    "전체 인스턴스에서 총 2 회 출력\n",
    "현재 인스턴스에서 1 회 출력\n",
    "전체 인스턴스에서 총 1 회 출력\n",
    "```"
   ]
  },
  {
   "cell_type": "markdown",
   "id": "7e938b4d-55be-433f-aed4-0127289da894",
   "metadata": {},
   "source": [
    "| |시점1 |시점2 |시점3 | 시점4 | 시점5| 시점6|\n",
    "|:-:|:-:|:-:|:-:|:-:|:-:|:-:|\n",
    "|Testclass3.x|값없음| 값없음| 값없음| 값없음| 값없음| 값없음|\n",
    "|Testclass3.y|값없음| 0| 1| 2| 0 | 1|\n",
    "|a.x| 값없음     | 0| 1| 2| 2| 2|\n",
    "|a.y| 값없음     | 0| 1| 2| 0| 1|\n",
    "|b.x| 값없음|     값없음| 값없음| 값없음| 0| 1|\n",
    "|b.y| 값없음|     값없음| 값없음| 값없음| 0| 1|"
   ]
  },
  {
   "cell_type": "markdown",
   "id": "b2dddabf-80fa-4e15-8d9d-e6937cd23944",
   "metadata": {},
   "source": [
    "`–` Testclass3.y가 업데이트 되면 a.y, b.y도 자동으로 업데이트 된다. "
   ]
  },
  {
   "cell_type": "markdown",
   "id": "796b4d53-0103-427b-a33e-461b476070e9",
   "metadata": {},
   "source": [
    "숙제: "
   ]
  },
  {
   "cell_type": "markdown",
   "id": "61f4cdcd-382a-4e24-9afe-f109da84bd87",
   "metadata": {},
   "source": [
    "```python\n",
    "#### Testclass3\n",
    "## 시점1: 클래스 오브젝트 생성 \n",
    "class Testclass3: \n",
    "        y=0\n",
    "    def __init__(self):\n",
    "        self.x=0\n",
    "    def my_print(self):\n",
    "        self.x += 1 \n",
    "        Testclass3.y +=1 \n",
    "        print(\"현재 인스턴스에서 %s 회 출력\" % self.x)\n",
    "        print(\"전체 인스턴스에서 총 %s 회 출력\" % self.y)\n",
    "## 시점2: 인스턴스 오브젝트 a를 생성 \n",
    "a=Testclass3()\n",
    "## 시점3: a에서 메소드 실행 \n",
    "a.my_print()\n",
    "## 시점4: a에서 메소드를 한번 더 실행 \n",
    "a.my_print()\n",
    "## 시점5: 인스턴스 오브젝트 b를 생성\n",
    "b=Testclass3()\n",
    "## 시점6: b에서 메소드를 실행\n",
    "b.my_print()\n",
    "```"
   ]
  },
  {
   "cell_type": "markdown",
   "id": "37156001-1016-428c-966d-729be397dbcf",
   "metadata": {},
   "source": [
    "| |시점1 |시점2 |시점3 | 시점4 | 시점5| 시점6|\n",
    "|:-:|:-:|:-:|:-:|:-:|:-:|:-:|\n",
    "|Testclass3.x| | | | | | |\n",
    "|Testclass3.y|| | | | | |\n",
    "|a.x| | | | | | |\n",
    "|a.y| | | | | | |\n",
    "|b.x| | | | | | |\n",
    "|b.y| | | | | | |"
   ]
  },
  {
   "cell_type": "markdown",
   "id": "daaccfda-ddc5-4e98-aaf8-17993a9f1669",
   "metadata": {},
   "source": [
    "## 네임스페이스"
   ]
  },
  {
   "cell_type": "markdown",
   "id": "bf8318a7-0c93-4c92-a9ae-6b3074453703",
   "metadata": {},
   "source": [
    "### 예제1"
   ]
  },
  {
   "cell_type": "markdown",
   "id": "a2b0aa2d-b12c-412b-8e85-6d9f988b3aec",
   "metadata": {},
   "source": [
    "`-` 아래의 코드를 관찰하라. "
   ]
  },
  {
   "cell_type": "code",
   "execution_count": 1,
   "id": "b4ac735b-6982-4545-a6ee-c58cc4fd027d",
   "metadata": {},
   "outputs": [],
   "source": [
    "class Testclass1: \n",
    "    x=0"
   ]
  },
  {
   "cell_type": "code",
   "execution_count": 2,
   "id": "10cc0512-bde5-4fb3-80e3-9d5e2c858f54",
   "metadata": {},
   "outputs": [
    {
     "data": {
      "text/plain": [
       "0"
      ]
     },
     "execution_count": 2,
     "metadata": {},
     "output_type": "execute_result"
    }
   ],
   "source": [
    "Testclass1.x"
   ]
  },
  {
   "cell_type": "code",
   "execution_count": 3,
   "id": "df8b14d3-79b2-4de7-99ba-a9ef87a895cf",
   "metadata": {},
   "outputs": [],
   "source": [
    "a=Testclass1()"
   ]
  },
  {
   "cell_type": "code",
   "execution_count": 4,
   "id": "b8fe3a6b-db60-42c8-ac1d-719f80045873",
   "metadata": {},
   "outputs": [
    {
     "data": {
      "text/plain": [
       "0"
      ]
     },
     "execution_count": 4,
     "metadata": {},
     "output_type": "execute_result"
    }
   ],
   "source": [
    "a.x"
   ]
  },
  {
   "cell_type": "markdown",
   "id": "c2c939a8-eef6-4fde-9ccf-816ff2e3e835",
   "metadata": {},
   "source": [
    "`–` Testclass1.x를 수정하면 a.x가 강제로 수정된다. "
   ]
  },
  {
   "cell_type": "code",
   "execution_count": 5,
   "id": "7c4a1b75-74dc-4174-8f05-6ccadfa6f9d2",
   "metadata": {},
   "outputs": [],
   "source": [
    "Testclass1.x=100"
   ]
  },
  {
   "cell_type": "code",
   "execution_count": 6,
   "id": "da38add9-6236-419e-9aa9-5909c4f1a42a",
   "metadata": {},
   "outputs": [
    {
     "data": {
      "text/plain": [
       "100"
      ]
     },
     "execution_count": 6,
     "metadata": {},
     "output_type": "execute_result"
    }
   ],
   "source": [
    "a.x"
   ]
  },
  {
   "cell_type": "markdown",
   "id": "2f201b4c-5203-4f9c-b7da-e79fc0f2b3ef",
   "metadata": {},
   "source": [
    "`-` a.x를 수정한다고 하여 Testclass1.x가 강제로 수정되는 것은 아님"
   ]
  },
  {
   "cell_type": "code",
   "execution_count": 7,
   "id": "67ba64c4-a3db-4de0-96b5-6f76b2bdccbd",
   "metadata": {},
   "outputs": [],
   "source": [
    "a.x=200"
   ]
  },
  {
   "cell_type": "code",
   "execution_count": 8,
   "id": "ade06c36-7f31-4930-98f8-5b1758cc3e90",
   "metadata": {},
   "outputs": [
    {
     "data": {
      "text/plain": [
       "100"
      ]
     },
     "execution_count": 8,
     "metadata": {},
     "output_type": "execute_result"
    }
   ],
   "source": [
    "Testclass1.x"
   ]
  },
  {
   "cell_type": "code",
   "execution_count": 9,
   "id": "a9fe05dd-ecea-4b27-944c-e64c42bd8746",
   "metadata": {},
   "outputs": [
    {
     "data": {
      "text/plain": [
       "200"
      ]
     },
     "execution_count": 9,
     "metadata": {},
     "output_type": "execute_result"
    }
   ],
   "source": [
    "a.x"
   ]
  },
  {
   "cell_type": "markdown",
   "id": "930b7db3-5782-4c11-b67d-3b0f53522b72",
   "metadata": {},
   "source": [
    "`-` 이건 왜이러지?"
   ]
  },
  {
   "cell_type": "code",
   "execution_count": 10,
   "id": "22e1c6a3-50b4-47e8-a23b-d5f4531d2190",
   "metadata": {},
   "outputs": [],
   "source": [
    "Testclass1.x=300"
   ]
  },
  {
   "cell_type": "code",
   "execution_count": 11,
   "id": "7cb88e68-cb9f-4673-9d5c-cb7f1ffad96e",
   "metadata": {
    "tags": []
   },
   "outputs": [
    {
     "data": {
      "text/plain": [
       "200"
      ]
     },
     "execution_count": 11,
     "metadata": {},
     "output_type": "execute_result"
    }
   ],
   "source": [
    "a.x"
   ]
  },
  {
   "cell_type": "markdown",
   "id": "4abd64a2-3da8-454a-b9df-52fa6c890f70",
   "metadata": {},
   "source": [
    "`-` 아래의 상황과 비슷하다. "
   ]
  },
  {
   "cell_type": "code",
   "execution_count": 32,
   "id": "d53ad0e6-3c2c-45c2-98af-952f330cf12e",
   "metadata": {},
   "outputs": [
    {
     "name": "stdout",
     "output_type": "stream",
     "text": [
      "39 40\n"
     ]
    }
   ],
   "source": [
    "## [code1]\n",
    "x=39\n",
    "def nextyear():\n",
    "    y=x+1\n",
    "    print(x,y)\n",
    "nextyear()"
   ]
  },
  {
   "cell_type": "code",
   "execution_count": 29,
   "id": "076a2bd5-9936-4584-948d-90e7695f37fc",
   "metadata": {},
   "outputs": [
    {
     "ename": "UnboundLocalError",
     "evalue": "local variable 'x' referenced before assignment",
     "output_type": "error",
     "traceback": [
      "\u001b[0;31m---------------------------------------------------------------------------\u001b[0m",
      "\u001b[0;31mUnboundLocalError\u001b[0m                         Traceback (most recent call last)",
      "\u001b[0;32m<ipython-input-29-9c5d2bc270db>\u001b[0m in \u001b[0;36m<module>\u001b[0;34m\u001b[0m\n\u001b[1;32m      5\u001b[0m     \u001b[0mprint\u001b[0m\u001b[0;34m(\u001b[0m\u001b[0mx\u001b[0m\u001b[0;34m,\u001b[0m\u001b[0my\u001b[0m\u001b[0;34m)\u001b[0m\u001b[0;34m\u001b[0m\u001b[0;34m\u001b[0m\u001b[0m\n\u001b[1;32m      6\u001b[0m     \u001b[0mx\u001b[0m\u001b[0;34m=\u001b[0m\u001b[0;36m0\u001b[0m\u001b[0;34m\u001b[0m\u001b[0;34m\u001b[0m\u001b[0m\n\u001b[0;32m----> 7\u001b[0;31m \u001b[0mnextyear\u001b[0m\u001b[0;34m(\u001b[0m\u001b[0;34m)\u001b[0m\u001b[0;34m\u001b[0m\u001b[0;34m\u001b[0m\u001b[0m\n\u001b[0m",
      "\u001b[0;32m<ipython-input-29-9c5d2bc270db>\u001b[0m in \u001b[0;36mnextyear\u001b[0;34m()\u001b[0m\n\u001b[1;32m      2\u001b[0m \u001b[0mx\u001b[0m\u001b[0;34m=\u001b[0m\u001b[0;36m39\u001b[0m\u001b[0;34m\u001b[0m\u001b[0;34m\u001b[0m\u001b[0m\n\u001b[1;32m      3\u001b[0m \u001b[0;32mdef\u001b[0m \u001b[0mnextyear\u001b[0m\u001b[0;34m(\u001b[0m\u001b[0;34m)\u001b[0m\u001b[0;34m:\u001b[0m\u001b[0;34m\u001b[0m\u001b[0;34m\u001b[0m\u001b[0m\n\u001b[0;32m----> 4\u001b[0;31m     \u001b[0my\u001b[0m\u001b[0;34m=\u001b[0m\u001b[0mx\u001b[0m\u001b[0;34m+\u001b[0m\u001b[0;36m1\u001b[0m\u001b[0;34m\u001b[0m\u001b[0;34m\u001b[0m\u001b[0m\n\u001b[0m\u001b[1;32m      5\u001b[0m     \u001b[0mprint\u001b[0m\u001b[0;34m(\u001b[0m\u001b[0mx\u001b[0m\u001b[0;34m,\u001b[0m\u001b[0my\u001b[0m\u001b[0;34m)\u001b[0m\u001b[0;34m\u001b[0m\u001b[0;34m\u001b[0m\u001b[0m\n\u001b[1;32m      6\u001b[0m     \u001b[0mx\u001b[0m\u001b[0;34m=\u001b[0m\u001b[0;36m0\u001b[0m\u001b[0;34m\u001b[0m\u001b[0;34m\u001b[0m\u001b[0m\n",
      "\u001b[0;31mUnboundLocalError\u001b[0m: local variable 'x' referenced before assignment"
     ]
    }
   ],
   "source": [
    "## [code2]\n",
    "x=39\n",
    "def nextyear():\n",
    "    y=x+1\n",
    "    print(x,y)\n",
    "    x=0\n",
    "nextyear()"
   ]
  },
  {
   "cell_type": "markdown",
   "id": "0c66c1c8-6e46-47b1-a046-20fe7a2c918c",
   "metadata": {},
   "source": [
    "`–` [code1]은 잘 실행되던 코드다."
   ]
  },
  {
   "cell_type": "markdown",
   "id": "5417c4ee-b120-4104-b2b6-50899a3f25dd",
   "metadata": {},
   "source": [
    "`-` [code2]는 실행안되는 코드다."
   ]
  },
  {
   "cell_type": "markdown",
   "id": "44ee66d9-fe3c-4125-a06c-cad4adc644ce",
   "metadata": {},
   "source": [
    "`-` [code2]와 [code1]의 차이점은 x=0이라는 코드가 추가로 포함되었는지 유무다. "
   ]
  },
  {
   "cell_type": "markdown",
   "id": "a8356aa5-c292-49b5-a61a-76f39c2688b7",
   "metadata": {},
   "source": [
    "`–` (헛소리) x=0 이 잘못된 코드다!! 이걸 실행하는 과정에서 문제가 생겼다!! "
   ]
  },
  {
   "cell_type": "markdown",
   "id": "de4f3b58-e3ef-44c0-982e-760f3ab6f524",
   "metadata": {},
   "source": [
    "`-` (올바른소리) code1에서는 x는 global variable, code2에서는 x가 local variable 이라서 생기는 문제점이다. "
   ]
  },
  {
   "cell_type": "code",
   "execution_count": 37,
   "id": "b85fdf7d-ccc2-490b-b900-a8d7c46fd09b",
   "metadata": {},
   "outputs": [
    {
     "name": "stdout",
     "output_type": "stream",
     "text": [
      "0 1\n"
     ]
    }
   ],
   "source": [
    "## [code2]\n",
    "x=39\n",
    "def nextyear():\n",
    "    x=0\n",
    "    y=x+1\n",
    "    print(x,y)\n",
    "nextyear()"
   ]
  },
  {
   "cell_type": "code",
   "execution_count": 38,
   "id": "5e4e82b4-6059-422b-8d4b-ec2ee5bedcf5",
   "metadata": {},
   "outputs": [
    {
     "data": {
      "text/plain": [
       "39"
      ]
     },
     "execution_count": 38,
     "metadata": {},
     "output_type": "execute_result"
    }
   ],
   "source": [
    "x"
   ]
  },
  {
   "cell_type": "markdown",
   "id": "5a9b2f5e-20ac-4294-bec2-348c98b0353a",
   "metadata": {},
   "source": [
    "`–` 다시 우리의 예제로 돌아오자.\n",
    "```python\n",
    "### 시점1\n",
    "class Testclass1: \n",
    "    x=0\n",
    "### 시점2\n",
    "a=Testclass1()\n",
    "### 시점3\n",
    "Testclass1.x=100\n",
    "### 시점4\n",
    "a.x=200\n",
    "### 시점5\n",
    "Testclass1.x=300\n",
    "```"
   ]
  },
  {
   "cell_type": "markdown",
   "id": "aeafb420-6f43-44bb-935e-f3d6bbb8dada",
   "metadata": {},
   "source": [
    "| |시점1 |시점2 |시점3 | 시점4 | 시점5|\n",
    "|:-:|:-:|:-:|:-:|:-:|:-:|\n",
    "|Testclass1.x|0| 0| 100| 100| 300|\n",
    "|a.x| 값없음     | 0| 100| 200| 200|\n",
    "|a.x의 속성| -     | class| class| instance | instance|"
   ]
  },
  {
   "cell_type": "markdown",
   "id": "ad32f448-4353-42dc-8c9e-150001ec7dcd",
   "metadata": {},
   "source": [
    "`–` a.x가 클래스로부터 물려받은 속성인지 (그래서 클래스와 연결되어있는지) 아니면 instance가 독자적으로 가지고 있는 속성인지 어떻게 알 수 있을까? "
   ]
  },
  {
   "cell_type": "code",
   "execution_count": 52,
   "id": "81204ff0-0493-4067-a13b-3a5aa23d33bf",
   "metadata": {},
   "outputs": [
    {
     "name": "stdout",
     "output_type": "stream",
     "text": [
      "시점1 0\n",
      "시점2 0 0 {}\n",
      "시점3 100 100 {}\n",
      "시점4 100 200 {'x': 200}\n",
      "시점5 300 200 {'x': 200}\n"
     ]
    }
   ],
   "source": [
    "### 시점1\n",
    "class Testclass1: \n",
    "    x=0\n",
    "print('시점1',Testclass1.x)\n",
    "### 시점2\n",
    "a=Testclass1()\n",
    "print('시점2',Testclass1.x,a.x,a.__dict__)\n",
    "### 시점3\n",
    "Testclass1.x=100\n",
    "print('시점3',Testclass1.x,a.x,a.__dict__)\n",
    "### 시점4\n",
    "a.x=200\n",
    "print('시점4',Testclass1.x,a.x,a.__dict__)\n",
    "### 시점5\n",
    "Testclass1.x=300\n",
    "print('시점5',Testclass1.x,a.x,a.__dict__)"
   ]
  },
  {
   "cell_type": "markdown",
   "id": "72221bc3-0ceb-4b5e-a4f8-40a1af192026",
   "metadata": {},
   "source": [
    "### 예제2"
   ]
  },
  {
   "cell_type": "code",
   "execution_count": 53,
   "id": "10b80706-373a-4284-892d-703f262e570d",
   "metadata": {},
   "outputs": [],
   "source": [
    "x=11 ## 전역변수 ... A\n",
    "\n",
    "def f():\n",
    "    x=22 ## 함수 f안에 설정된 지역변수 \n",
    "    print(x) ## 전역에 x=11 있지만 함수안에 x=22가 있으므로 x=22를 사용. --> 22출력됨 \n",
    "\n",
    "def g():\n",
    "    print(x) ## 함수 g안에 x를 찾아봤는데 없음 --> 전역에서 x를 찾음 --> x=11 --> 11출력함. \n",
    "\n",
    "class Testclass2: \n",
    "    x=33 ## 클래스 변수 ... B\n",
    "    def m1(self):\n",
    "        x=44 ## 메소드 변수 ... C\n",
    "    def m2(self):\n",
    "        self.x=44 ## 인스턴스 변수 ... D "
   ]
  },
  {
   "cell_type": "markdown",
   "id": "34770004-81ac-4b38-a299-1865b4d15407",
   "metadata": {},
   "source": [
    "`-` 결과를 관찰하고 해석해보자. "
   ]
  },
  {
   "cell_type": "code",
   "execution_count": 54,
   "id": "6ed3458d-2765-4453-a323-564901c30ea7",
   "metadata": {},
   "outputs": [
    {
     "name": "stdout",
     "output_type": "stream",
     "text": [
      "11\n"
     ]
    }
   ],
   "source": [
    "print(x)"
   ]
  },
  {
   "cell_type": "markdown",
   "id": "78abb41e-cd06-4694-b28d-a799d518231c",
   "metadata": {},
   "source": [
    "> Note: 전역변수 출력"
   ]
  },
  {
   "cell_type": "code",
   "execution_count": 55,
   "id": "5da9a67d-3918-4ba2-a0a3-9e99dc53772c",
   "metadata": {},
   "outputs": [
    {
     "name": "stdout",
     "output_type": "stream",
     "text": [
      "22\n"
     ]
    }
   ],
   "source": [
    "f()"
   ]
  },
  {
   "cell_type": "markdown",
   "id": "ba6473b6-87b5-4bb0-b14d-93c506dba089",
   "metadata": {},
   "source": [
    "> Note: f에서 설정된 지역변수 22가 출력됨"
   ]
  },
  {
   "cell_type": "code",
   "execution_count": 56,
   "id": "ba8fcd4a-27ff-4a4c-85b0-66c5084c835c",
   "metadata": {},
   "outputs": [
    {
     "data": {
      "text/plain": [
       "11"
      ]
     },
     "execution_count": 56,
     "metadata": {},
     "output_type": "execute_result"
    }
   ],
   "source": [
    "x"
   ]
  },
  {
   "cell_type": "markdown",
   "id": "6cc9000d-f9d6-423d-89dd-72bfe315aeed",
   "metadata": {},
   "source": [
    "> Note: f내의 지역변수를 사용하여도 전역변수는 변하지 않음. (함수내부에서 선언된 x=22는 함수외부에 영향을 주지못함)"
   ]
  },
  {
   "cell_type": "code",
   "execution_count": 57,
   "id": "39b06f7c-d1f0-4927-b28a-5151605451eb",
   "metadata": {},
   "outputs": [
    {
     "name": "stdout",
     "output_type": "stream",
     "text": [
      "11\n"
     ]
    }
   ],
   "source": [
    "g()"
   ]
  },
  {
   "cell_type": "markdown",
   "id": "e28c18bd-b823-45e7-aa1f-d45da9741035",
   "metadata": {},
   "source": [
    "> Note: g에서 설정된 지역변수가 따로 없으므로 전역변수 출력"
   ]
  },
  {
   "cell_type": "code",
   "execution_count": 58,
   "id": "16b48a50-d306-4524-b9f8-d735ac102f72",
   "metadata": {},
   "outputs": [
    {
     "data": {
      "text/plain": [
       "(11, 33)"
      ]
     },
     "execution_count": 58,
     "metadata": {},
     "output_type": "execute_result"
    }
   ],
   "source": [
    "x,Testclass2.x"
   ]
  },
  {
   "cell_type": "markdown",
   "id": "7a55bc38-8cec-49ab-9226-74b77fc49b7f",
   "metadata": {},
   "source": [
    "> Note: 전역변수 x와 클래스오브젝트에 설정된 변수 x "
   ]
  },
  {
   "cell_type": "code",
   "execution_count": 59,
   "id": "ca79ce3d-ac05-4394-a620-f95c2cb638c3",
   "metadata": {},
   "outputs": [
    {
     "data": {
      "text/plain": [
       "((11, 33, 33), {})"
      ]
     },
     "execution_count": 59,
     "metadata": {},
     "output_type": "execute_result"
    }
   ],
   "source": [
    "a=Testclass2()\n",
    "(x,Testclass2.x,a.x),a.__dict__"
   ]
  },
  {
   "cell_type": "markdown",
   "id": "2040ea0c-f982-4606-9c7c-2f4bfbaf261d",
   "metadata": {},
   "source": [
    "> Note: 전역변수, 클래스 오브젝트내의 변수, 인스턴스내의 변수. `a.__dict__`의 결과로 보아 인스턴스내의 변수는 클래스 오브젝트내의 변수를 빌려쓰고 있다. "
   ]
  },
  {
   "cell_type": "code",
   "execution_count": 60,
   "id": "bc3b8dc2-bb08-445e-a41b-2de7b67eb39e",
   "metadata": {},
   "outputs": [
    {
     "data": {
      "text/plain": [
       "((11, 200, 200), {})"
      ]
     },
     "execution_count": 60,
     "metadata": {},
     "output_type": "execute_result"
    }
   ],
   "source": [
    "Testclass2.x=200\n",
    "(x,Testclass2.x,a.x),a.__dict__"
   ]
  },
  {
   "cell_type": "markdown",
   "id": "5515cdc8-f0e0-4151-8702-e2e9f4deedea",
   "metadata": {},
   "source": [
    "> Note: 클래스오브젝트에서 변수를 고치면 인스턴스에 영향을 미침"
   ]
  },
  {
   "cell_type": "code",
   "execution_count": 61,
   "id": "17407267-8cbe-4d7b-bfee-4cc16558f7b9",
   "metadata": {},
   "outputs": [
    {
     "data": {
      "text/plain": [
       "((11, 200, 200), {})"
      ]
     },
     "execution_count": 61,
     "metadata": {},
     "output_type": "execute_result"
    }
   ],
   "source": [
    "a.m1()\n",
    "(x,Testclass2.x,a.x),a.__dict__"
   ]
  },
  {
   "cell_type": "markdown",
   "id": "4a9ed2fd-2b9c-49fe-aac6-2bb964f01eff",
   "metadata": {},
   "source": [
    "> Note: 메소드 `m1`내에서 선언된 x=44라는 선언은 아무것도 변화시킬수 없음. "
   ]
  },
  {
   "cell_type": "code",
   "execution_count": 62,
   "id": "7b9fdc92-bdff-4b28-a060-bdc77cf326a6",
   "metadata": {},
   "outputs": [
    {
     "data": {
      "text/plain": [
       "((11, 200, 44), {'x': 44})"
      ]
     },
     "execution_count": 62,
     "metadata": {},
     "output_type": "execute_result"
    }
   ],
   "source": [
    "a.m2()\n",
    "(x,Testclass2.x,a.x),a.__dict__"
   ]
  },
  {
   "cell_type": "markdown",
   "id": "ae55f3c7-0870-46f9-b807-32c7ce7e8b59",
   "metadata": {},
   "source": [
    "> Note: 메소드 `m2`에 있는 self.x는 결국 a.x라는 의미이고, 이 선언은 클래스오브젝트 내의 변수와 독립적으로 인스턴스오브젝트 내에서 통용되는 변수를 선언하는 것임. 이 선언의 결과는 `a.__dict__`의 출력결과에서도 확인가능."
   ]
  },
  {
   "cell_type": "code",
   "execution_count": 63,
   "id": "5e5a676e-874c-4627-8f27-f2018da374cd",
   "metadata": {},
   "outputs": [
    {
     "data": {
      "text/plain": [
       "((11, 300, 44), {'x': 44})"
      ]
     },
     "execution_count": 63,
     "metadata": {},
     "output_type": "execute_result"
    }
   ],
   "source": [
    "Testclass2.x=300\n",
    "(x,Testclass2.x,a.x),a.__dict__"
   ]
  },
  {
   "cell_type": "markdown",
   "id": "ef17be10-21ee-42e7-b750-c06f3e4df798",
   "metadata": {},
   "source": [
    "> Note: 이제는 a.x와 Testclass2.x 는 분리된 상태이므로, Testclass2.x의 값을 바꾸어도 a.x에는 값의 변화가 없음. "
   ]
  },
  {
   "cell_type": "markdown",
   "id": "308282ab-a770-4b18-b413-1f85ceb7da40",
   "metadata": {},
   "source": [
    "`-` 뭐 어쩌라는 것임?"
   ]
  },
  {
   "cell_type": "markdown",
   "id": "aeb112fa-ef04-468f-bc5a-a49c0ed42f04",
   "metadata": {},
   "source": [
    "`-` 그냥 그렇다는것.. 내용을 모르고 사용한다면 예상하지 못한 오류가 발생할 수 있으므로 조심해서 사용하자. "
   ]
  },
  {
   "cell_type": "markdown",
   "id": "cb290ede-9f64-4a7b-93bc-fe1530579cb4",
   "metadata": {},
   "source": [
    "숙제: 전역변수(A), 클래스 변수(B), 메소드 변수(C), 인스턴스 변수(D)\n",
    "    \n",
    "답: A>B>D>C"
   ]
  },
  {
   "cell_type": "markdown",
   "id": "2b407012-1ef7-4676-a9ba-8a259661ddad",
   "metadata": {},
   "source": [
    "## 연산자 오버로딩 "
   ]
  },
  {
   "cell_type": "markdown",
   "id": "29710141-0896-45de-98ee-032667d08a96",
   "metadata": {},
   "source": [
    "`-` 아래의 코드를 관찰하자. "
   ]
  },
  {
   "cell_type": "code",
   "execution_count": 1,
   "id": "9a99e8e1-c208-4a0a-8969-2627afb686c2",
   "metadata": {},
   "outputs": [
    {
     "data": {
      "text/plain": [
       "2"
      ]
     },
     "execution_count": 1,
     "metadata": {},
     "output_type": "execute_result"
    }
   ],
   "source": [
    "1+1"
   ]
  },
  {
   "cell_type": "markdown",
   "id": "906c3f96-aad5-4b61-b68d-27349fe2f45c",
   "metadata": {},
   "source": [
    "`-` 생각해보니까 `1`은 int class 에서 생성된 인스턴스이다. \n",
    "\n",
    "`-` 코드를 관찰하니 instance와 instance를 `+`라는 연산이 연결하는 형태임. "
   ]
  },
  {
   "cell_type": "code",
   "execution_count": 169,
   "id": "f5c72105-9432-4e7e-9e31-6dc0b5c8865f",
   "metadata": {},
   "outputs": [],
   "source": [
    "class Student: \n",
    "    def __init__(self,age=20.0,semester=1):\n",
    "        self.age=age\n",
    "        self.semester=semester\n",
    "    def __add__(self,val):\n",
    "        # val==0: 휴학 \n",
    "        # val==1: 등록\n",
    "        if val==0: \n",
    "            self.age=self.age +0.5 \n",
    "        elif val==1: \n",
    "            self.age=self.age+0.5\n",
    "            self.semester=self.semester+1\n",
    "        return self\n",
    "    def __repr__(self):\n",
    "        return '나이: %s \\n학기: %s' % (self.age,self.semester)"
   ]
  },
  {
   "cell_type": "code",
   "execution_count": 170,
   "id": "e9fdc647-62b3-45bb-bbae-afbad8b9f5ff",
   "metadata": {},
   "outputs": [],
   "source": [
    "guebin=Student()"
   ]
  },
  {
   "cell_type": "code",
   "execution_count": 76,
   "id": "9ae62138-c533-4291-b60a-90181d55f765",
   "metadata": {},
   "outputs": [
    {
     "data": {
      "text/plain": [
       "20.0"
      ]
     },
     "execution_count": 76,
     "metadata": {},
     "output_type": "execute_result"
    }
   ],
   "source": [
    "guebin.age"
   ]
  },
  {
   "cell_type": "code",
   "execution_count": 77,
   "id": "11e6d449-f8c2-44d0-9e98-d25bff08ef45",
   "metadata": {},
   "outputs": [
    {
     "data": {
      "text/plain": [
       "1"
      ]
     },
     "execution_count": 77,
     "metadata": {},
     "output_type": "execute_result"
    }
   ],
   "source": [
    "guebin.semester"
   ]
  },
  {
   "cell_type": "code",
   "execution_count": 78,
   "id": "29d01fd3-86ed-4aac-a0d8-85bb6f759f8d",
   "metadata": {},
   "outputs": [
    {
     "data": {
      "text/plain": [
       "나이: 20.0 \n",
       "학기: 1"
      ]
     },
     "execution_count": 78,
     "metadata": {},
     "output_type": "execute_result"
    }
   ],
   "source": [
    "guebin"
   ]
  },
  {
   "cell_type": "code",
   "execution_count": 79,
   "id": "b9ee59f6-5942-41ae-9d8d-0cf560517045",
   "metadata": {},
   "outputs": [
    {
     "data": {
      "text/plain": [
       "나이: 20.5 \n",
       "학기: 2"
      ]
     },
     "execution_count": 79,
     "metadata": {},
     "output_type": "execute_result"
    }
   ],
   "source": [
    "guebin+1"
   ]
  },
  {
   "cell_type": "code",
   "execution_count": 80,
   "id": "acbfacd1-9445-4e93-b9a0-8c6ed785d4f8",
   "metadata": {},
   "outputs": [
    {
     "data": {
      "text/plain": [
       "나이: 21.0 \n",
       "학기: 2"
      ]
     },
     "execution_count": 80,
     "metadata": {},
     "output_type": "execute_result"
    }
   ],
   "source": [
    "guebin+0"
   ]
  },
  {
   "cell_type": "code",
   "execution_count": 81,
   "id": "9120d19d-7a72-4ba4-88d7-9e40e1b690c8",
   "metadata": {},
   "outputs": [
    {
     "data": {
      "text/plain": [
       "나이: 24.5 \n",
       "학기: 4"
      ]
     },
     "execution_count": 81,
     "metadata": {},
     "output_type": "execute_result"
    }
   ],
   "source": [
    "guebin+0+0+0+0+1+0+1"
   ]
  },
  {
   "cell_type": "markdown",
   "id": "049bae45-38d2-4ef1-9dbd-9701cccb191f",
   "metadata": {},
   "source": [
    "`-` 연산자 오버로드 핵심아이디어 \n",
    "- 클래스가 일반 파이썬 연산을 재정의하는 것  \n",
    "- 여기에서 연산은 단순히 더하기 빼기를 의미하는게 아니라, `print()`, `+`, `[0]` 와 같은 파이썬 내장문법을 모두 포괄하는 개념이라 이해하는 것이 옳다. "
   ]
  },
  {
   "cell_type": "code",
   "execution_count": 192,
   "id": "8d29aec4-761f-463c-8975-a7aabdcae06e",
   "metadata": {},
   "outputs": [
    {
     "ename": "TypeError",
     "evalue": "'Student' object is not subscriptable",
     "output_type": "error",
     "traceback": [
      "\u001b[0;31m---------------------------------------------------------------------------\u001b[0m",
      "\u001b[0;31mTypeError\u001b[0m                                 Traceback (most recent call last)",
      "\u001b[0;32m<ipython-input-192-961de20e3474>\u001b[0m in \u001b[0;36m<module>\u001b[0;34m\u001b[0m\n\u001b[0;32m----> 1\u001b[0;31m \u001b[0mguebin\u001b[0m\u001b[0;34m[\u001b[0m\u001b[0;36m0\u001b[0m\u001b[0;34m]\u001b[0m\u001b[0;34m\u001b[0m\u001b[0;34m\u001b[0m\u001b[0m\n\u001b[0m",
      "\u001b[0;31mTypeError\u001b[0m: 'Student' object is not subscriptable"
     ]
    }
   ],
   "source": [
    "guebin[0]"
   ]
  },
  {
   "cell_type": "code",
   "execution_count": 183,
   "id": "2bd57efd-1904-479a-8c28-b6ce631f12ea",
   "metadata": {},
   "outputs": [],
   "source": [
    "class Student2(Student):\n",
    "    def __getitem__(self,index):\n",
    "        return [self.age,self.semester][index]"
   ]
  },
  {
   "cell_type": "code",
   "execution_count": 184,
   "id": "99e0f86a-439f-4a3f-8176-0bd1419e0575",
   "metadata": {},
   "outputs": [],
   "source": [
    "hynn=Student2()"
   ]
  },
  {
   "cell_type": "code",
   "execution_count": 185,
   "id": "198c397a-dc47-4a33-87c8-aabbca3023a9",
   "metadata": {},
   "outputs": [
    {
     "data": {
      "text/plain": [
       "나이: 22.0 \n",
       "학기: 3"
      ]
     },
     "execution_count": 185,
     "metadata": {},
     "output_type": "execute_result"
    }
   ],
   "source": [
    "hynn+1+1+0+0"
   ]
  },
  {
   "cell_type": "code",
   "execution_count": 186,
   "id": "c42aff96-7379-4d0d-bda7-b6b8dbebcaea",
   "metadata": {},
   "outputs": [
    {
     "data": {
      "text/plain": [
       "22.0"
      ]
     },
     "execution_count": 186,
     "metadata": {},
     "output_type": "execute_result"
    }
   ],
   "source": [
    "hynn[0]"
   ]
  },
  {
   "cell_type": "code",
   "execution_count": 187,
   "id": "c480c682-c0e9-425a-a95e-ba2b341b16ff",
   "metadata": {},
   "outputs": [
    {
     "data": {
      "text/plain": [
       "3"
      ]
     },
     "execution_count": 187,
     "metadata": {},
     "output_type": "execute_result"
    }
   ],
   "source": [
    "hynn[1]"
   ]
  },
  {
   "cell_type": "code",
   "execution_count": 188,
   "id": "8769423f-25b3-4e37-a688-f72b7f51458e",
   "metadata": {},
   "outputs": [
    {
     "data": {
      "text/plain": [
       "[22.0, 3]"
      ]
     },
     "execution_count": 188,
     "metadata": {},
     "output_type": "execute_result"
    }
   ],
   "source": [
    "hynn[:]"
   ]
  },
  {
   "cell_type": "markdown",
   "id": "c0b024f5-c61f-4fea-ba4d-632371bc9715",
   "metadata": {},
   "source": [
    "`-` 연산자 오버로딩을 이해하면 파이썬 전반에 대한 이해폭이 넓어진다. "
   ]
  },
  {
   "cell_type": "code",
   "execution_count": 189,
   "id": "576d983a-6354-4e2e-99e9-24c3a7cd8f38",
   "metadata": {},
   "outputs": [],
   "source": [
    "import pandas as pd "
   ]
  },
  {
   "cell_type": "code",
   "execution_count": 190,
   "id": "460dab49-4329-49f5-ae88-bba471a8e178",
   "metadata": {},
   "outputs": [],
   "source": [
    "df=pd.DataFrame({'age':[20,21.5],'semester':[1,2]})"
   ]
  },
  {
   "cell_type": "code",
   "execution_count": 191,
   "id": "f3569b7b-7bbb-4d74-8496-cb1ece899979",
   "metadata": {},
   "outputs": [
    {
     "data": {
      "text/plain": [
       "0    20.0\n",
       "1    21.5\n",
       "Name: age, dtype: float64"
      ]
     },
     "execution_count": 191,
     "metadata": {},
     "output_type": "execute_result"
    }
   ],
   "source": [
    "df.iloc[:,0]"
   ]
  },
  {
   "cell_type": "markdown",
   "id": "55914245-5e55-4aa3-99cb-84f4cd6eac08",
   "metadata": {},
   "source": [
    "## 도움말 작성방법 "
   ]
  },
  {
   "cell_type": "markdown",
   "id": "9beb63f0-6198-4bfa-b1ea-acdb5f11b8fd",
   "metadata": {},
   "source": [
    "`-` 넘파이의 경우 아래와 같이 도움말이 잘 작성되어 있다. "
   ]
  },
  {
   "cell_type": "code",
   "execution_count": 194,
   "id": "34f43784-90ab-4cbd-9d72-b17e9cc73ad3",
   "metadata": {},
   "outputs": [
    {
     "data": {
      "text/plain": [
       "\u001b[0;31mType:\u001b[0m            ndarray\n",
       "\u001b[0;31mString form:\u001b[0m     [1 2 3]\n",
       "\u001b[0;31mLength:\u001b[0m          3\n",
       "\u001b[0;31mFile:\u001b[0m            ~/anaconda3/envs/py38r40/lib/python3.8/site-packages/numpy/__init__.py\n",
       "\u001b[0;31mDocstring:\u001b[0m       <no docstring>\n",
       "\u001b[0;31mClass docstring:\u001b[0m\n",
       "ndarray(shape, dtype=float, buffer=None, offset=0,\n",
       "        strides=None, order=None)\n",
       "\n",
       "An array object represents a multidimensional, homogeneous array\n",
       "of fixed-size items.  An associated data-type object describes the\n",
       "format of each element in the array (its byte-order, how many bytes it\n",
       "occupies in memory, whether it is an integer, a floating point number,\n",
       "or something else, etc.)\n",
       "\n",
       "Arrays should be constructed using `array`, `zeros` or `empty` (refer\n",
       "to the See Also section below).  The parameters given here refer to\n",
       "a low-level method (`ndarray(...)`) for instantiating an array.\n",
       "\n",
       "For more information, refer to the `numpy` module and examine the\n",
       "methods and attributes of an array.\n",
       "\n",
       "Parameters\n",
       "----------\n",
       "(for the __new__ method; see Notes below)\n",
       "\n",
       "shape : tuple of ints\n",
       "    Shape of created array.\n",
       "dtype : data-type, optional\n",
       "    Any object that can be interpreted as a numpy data type.\n",
       "buffer : object exposing buffer interface, optional\n",
       "    Used to fill the array with data.\n",
       "offset : int, optional\n",
       "    Offset of array data in buffer.\n",
       "strides : tuple of ints, optional\n",
       "    Strides of data in memory.\n",
       "order : {'C', 'F'}, optional\n",
       "    Row-major (C-style) or column-major (Fortran-style) order.\n",
       "\n",
       "Attributes\n",
       "----------\n",
       "T : ndarray\n",
       "    Transpose of the array.\n",
       "data : buffer\n",
       "    The array's elements, in memory.\n",
       "dtype : dtype object\n",
       "    Describes the format of the elements in the array.\n",
       "flags : dict\n",
       "    Dictionary containing information related to memory use, e.g.,\n",
       "    'C_CONTIGUOUS', 'OWNDATA', 'WRITEABLE', etc.\n",
       "flat : numpy.flatiter object\n",
       "    Flattened version of the array as an iterator.  The iterator\n",
       "    allows assignments, e.g., ``x.flat = 3`` (See `ndarray.flat` for\n",
       "    assignment examples; TODO).\n",
       "imag : ndarray\n",
       "    Imaginary part of the array.\n",
       "real : ndarray\n",
       "    Real part of the array.\n",
       "size : int\n",
       "    Number of elements in the array.\n",
       "itemsize : int\n",
       "    The memory use of each array element in bytes.\n",
       "nbytes : int\n",
       "    The total number of bytes required to store the array data,\n",
       "    i.e., ``itemsize * size``.\n",
       "ndim : int\n",
       "    The array's number of dimensions.\n",
       "shape : tuple of ints\n",
       "    Shape of the array.\n",
       "strides : tuple of ints\n",
       "    The step-size required to move from one element to the next in\n",
       "    memory. For example, a contiguous ``(3, 4)`` array of type\n",
       "    ``int16`` in C-order has strides ``(8, 2)``.  This implies that\n",
       "    to move from element to element in memory requires jumps of 2 bytes.\n",
       "    To move from row-to-row, one needs to jump 8 bytes at a time\n",
       "    (``2 * 4``).\n",
       "ctypes : ctypes object\n",
       "    Class containing properties of the array needed for interaction\n",
       "    with ctypes.\n",
       "base : ndarray\n",
       "    If the array is a view into another array, that array is its `base`\n",
       "    (unless that array is also a view).  The `base` array is where the\n",
       "    array data is actually stored.\n",
       "\n",
       "See Also\n",
       "--------\n",
       "array : Construct an array.\n",
       "zeros : Create an array, each element of which is zero.\n",
       "empty : Create an array, but leave its allocated memory unchanged (i.e.,\n",
       "        it contains \"garbage\").\n",
       "dtype : Create a data-type.\n",
       "\n",
       "Notes\n",
       "-----\n",
       "There are two modes of creating an array using ``__new__``:\n",
       "\n",
       "1. If `buffer` is None, then only `shape`, `dtype`, and `order`\n",
       "   are used.\n",
       "2. If `buffer` is an object exposing the buffer interface, then\n",
       "   all keywords are interpreted.\n",
       "\n",
       "No ``__init__`` method is needed because the array is fully initialized\n",
       "after the ``__new__`` method.\n",
       "\n",
       "Examples\n",
       "--------\n",
       "These examples illustrate the low-level `ndarray` constructor.  Refer\n",
       "to the `See Also` section above for easier ways of constructing an\n",
       "ndarray.\n",
       "\n",
       "First mode, `buffer` is None:\n",
       "\n",
       ">>> np.ndarray(shape=(2,2), dtype=float, order='F')\n",
       "array([[0.0e+000, 0.0e+000], # random\n",
       "       [     nan, 2.5e-323]])\n",
       "\n",
       "Second mode:\n",
       "\n",
       ">>> np.ndarray((2,), buffer=np.array([1,2,3]),\n",
       "...            offset=np.int_().itemsize,\n",
       "...            dtype=int) # offset = 1*itemsize, i.e. skip first element\n",
       "array([2, 3])\n"
      ]
     },
     "metadata": {},
     "output_type": "display_data"
    }
   ],
   "source": [
    "import numpy as np\n",
    "a=np.array([1,2,3])\n",
    "a?"
   ]
  },
  {
   "cell_type": "markdown",
   "id": "9a0cfc58-11fa-4a83-953f-b7411bc05b39",
   "metadata": {},
   "source": [
    "`-` 하지만 우리는? "
   ]
  },
  {
   "cell_type": "code",
   "execution_count": 196,
   "id": "7d4ba6ab-c2c0-4c11-9c20-5fc9177bd1fd",
   "metadata": {},
   "outputs": [
    {
     "data": {
      "text/plain": [
       "\u001b[0;31mType:\u001b[0m        Student2\n",
       "\u001b[0;31mString form:\u001b[0m\n",
       "나이: 22.0 \n",
       "학기: 3\n",
       "\u001b[0;31mDocstring:\u001b[0m   <no docstring>\n"
      ]
     },
     "metadata": {},
     "output_type": "display_data"
    }
   ],
   "source": [
    "hynn?"
   ]
  },
  {
   "cell_type": "markdown",
   "id": "9dcc0858-f539-4f2e-83ab-e225e70ab0d1",
   "metadata": {},
   "source": [
    "`-` 우리도 도움말을 작성하고 싶다. "
   ]
  },
  {
   "cell_type": "code",
   "execution_count": 203,
   "id": "2c60413b-6934-492b-96c8-729546fc7954",
   "metadata": {},
   "outputs": [],
   "source": [
    "class Student2(Student):\n",
    "    '''\n",
    "    Student2는 Student의 개선 \n",
    "    \n",
    "    # Student 클래스의 기능 \n",
    "    1. 출력기능 (__repr__)\n",
    "    2. 연산기능 (__add__): 학기와 나이를 카운트 \n",
    "    Examples\n",
    "    --------\n",
    "    >>> hynn=Student2()\n",
    "    >>> hynn+1\n",
    "    나이: 20.5 \n",
    "    학기: 2\n",
    "    \n",
    "    # Student2에서 추가된 기능 \n",
    "    1. 인덱싱\n",
    "    '''\n",
    "    def __getitem__(self,index):\n",
    "        return [self.age,self.semester][index]"
   ]
  },
  {
   "cell_type": "code",
   "execution_count": 204,
   "id": "56791c1e-e44d-4ce8-958d-fc296bfd9de7",
   "metadata": {},
   "outputs": [],
   "source": [
    "hynn=Student2()"
   ]
  },
  {
   "cell_type": "code",
   "execution_count": 205,
   "id": "ed0366ab-870d-4887-af36-d31e087fe50f",
   "metadata": {},
   "outputs": [
    {
     "data": {
      "text/plain": [
       "\u001b[0;31mType:\u001b[0m        Student2\n",
       "\u001b[0;31mString form:\u001b[0m\n",
       "나이: 20.0 \n",
       "학기: 1\n",
       "\u001b[0;31mDocstring:\u001b[0m  \n",
       "Student2는 Student의 개선 \n",
       "\n",
       "# Student 클래스의 기능 \n",
       "1. 출력기능 (__repr__)\n",
       "2. 연산기능 (__add__): 학기와 나이를 카운트 \n",
       "Examples\n",
       "--------\n",
       ">>> hynn=Student2()\n",
       ">>> hynn+1\n",
       "나이: 20.5 \n",
       "학기: 2\n",
       "\n",
       "# Student2에서 추가된 기능 \n",
       "1. 인덱싱\n"
      ]
     },
     "metadata": {},
     "output_type": "display_data"
    }
   ],
   "source": [
    "hynn?"
   ]
  },
  {
   "cell_type": "code",
   "execution_count": 206,
   "id": "b5838350-4a74-47a2-8ab5-debf8cf66e5b",
   "metadata": {},
   "outputs": [],
   "source": [
    "hynn=Student2(21,1)"
   ]
  },
  {
   "cell_type": "code",
   "execution_count": 207,
   "id": "db5d029e-52f7-413b-859c-ff05e0c890db",
   "metadata": {},
   "outputs": [
    {
     "data": {
      "text/plain": [
       "나이: 21 \n",
       "학기: 1"
      ]
     },
     "execution_count": 207,
     "metadata": {},
     "output_type": "execute_result"
    }
   ],
   "source": [
    "hynn"
   ]
  },
  {
   "cell_type": "code",
   "execution_count": 208,
   "id": "7ac6d8f7-f512-4b96-a98a-fad4aebfb424",
   "metadata": {},
   "outputs": [
    {
     "data": {
      "text/plain": [
       "\u001b[0;31mType:\u001b[0m        Student2\n",
       "\u001b[0;31mString form:\u001b[0m\n",
       "나이: 21 \n",
       "학기: 1\n",
       "\u001b[0;31mDocstring:\u001b[0m  \n",
       "Student2는 Student의 개선 \n",
       "\n",
       "# Student 클래스의 기능 \n",
       "1. 출력기능 (__repr__)\n",
       "2. 연산기능 (__add__): 학기와 나이를 카운트 \n",
       "Examples\n",
       "--------\n",
       ">>> hynn=Student2()\n",
       ">>> hynn+1\n",
       "나이: 20.5 \n",
       "학기: 2\n",
       "\n",
       "# Student2에서 추가된 기능 \n",
       "1. 인덱싱\n"
      ]
     },
     "metadata": {},
     "output_type": "display_data"
    }
   ],
   "source": [
    "hynn?"
   ]
  },
  {
   "cell_type": "markdown",
   "id": "84f2f86b-74ef-4e45-bda9-8cce032d6c86",
   "metadata": {},
   "source": [
    "## self에 대한 진실"
   ]
  },
  {
   "cell_type": "markdown",
   "id": "b222133b-5d71-45ef-a9c8-e66039208bc5",
   "metadata": {},
   "source": [
    "`–` 사실 이름이 self가 아니어도 된다. "
   ]
  },
  {
   "cell_type": "code",
   "execution_count": 212,
   "id": "ee7da9c5-72fe-4491-b2f7-f670be503979",
   "metadata": {},
   "outputs": [],
   "source": [
    "class MooYaHo: \n",
    "    def __init__(a):\n",
    "        a.text='mooyaho'"
   ]
  },
  {
   "cell_type": "code",
   "execution_count": 213,
   "id": "f8461efc-46cd-40db-8862-8242ebc0740e",
   "metadata": {},
   "outputs": [],
   "source": [
    "moo1=MooYaHo()"
   ]
  },
  {
   "cell_type": "code",
   "execution_count": 214,
   "id": "8028badd-884e-4423-ab10-37a5fff93d6d",
   "metadata": {},
   "outputs": [
    {
     "data": {
      "text/plain": [
       "'mooyaho'"
      ]
     },
     "execution_count": 214,
     "metadata": {},
     "output_type": "execute_result"
    }
   ],
   "source": [
    "moo1.text"
   ]
  },
  {
   "cell_type": "markdown",
   "id": "5db15efb-c4fb-4f66-a510-2833229b7b28",
   "metadata": {},
   "source": [
    "`–` 그런데 self를 많이 쓴다. "
   ]
  },
  {
   "cell_type": "markdown",
   "id": "9d9b999d-97a8-4679-8a3c-17d0df7ef8a1",
   "metadata": {},
   "source": [
    "숙제: MooYaHo class의 도움말에 학번을 넣고 출력 "
   ]
  }
 ],
 "metadata": {
  "kernelspec": {
   "display_name": "Python 3",
   "language": "python",
   "name": "python3"
  },
  "language_info": {
   "codemirror_mode": {
    "name": "ipython",
    "version": 3
   },
   "file_extension": ".py",
   "mimetype": "text/x-python",
   "name": "python",
   "nbconvert_exporter": "python",
   "pygments_lexer": "ipython3",
   "version": "3.8.8"
  }
 },
 "nbformat": 4,
 "nbformat_minor": 5
}
