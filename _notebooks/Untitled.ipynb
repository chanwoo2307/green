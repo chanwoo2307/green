{
 "cells": [
  {
   "cell_type": "markdown",
   "id": "6ceb6e73-6e83-4bb6-bc97-9e190c1f7bcb",
   "metadata": {},
   "source": [
    "## 이산수학"
   ]
  },
  {
   "cell_type": "markdown",
   "id": "21d176e2-66d1-4403-a120-e09c356b311d",
   "metadata": {},
   "source": [
    "월요일 1~2교시, 수요일 1교시"
   ]
  }
 ],
 "metadata": {
  "kernelspec": {
   "display_name": "Python 3",
   "language": "python",
   "name": "python3"
  },
  "language_info": {
   "codemirror_mode": {
    "name": "ipython",
    "version": 3
   },
   "file_extension": ".py",
   "mimetype": "text/x-python",
   "name": "python",
   "nbconvert_exporter": "python",
   "pygments_lexer": "ipython3",
   "version": "3.8.8"
  }
 },
 "nbformat": 4,
 "nbformat_minor": 5
}
