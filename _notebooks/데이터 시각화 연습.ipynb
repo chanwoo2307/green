{
 "cells": [
  {
   "cell_type": "markdown",
   "id": "692233dc-6e38-45fa-82b4-f804e7a7f275",
   "metadata": {},
   "source": [
    "## 데이터 시각화"
   ]
  },
  {
   "cell_type": "code",
   "execution_count": null,
   "id": "bcb3f4ac-ef63-4e12-a6c1-6ad2a2316978",
   "metadata": {},
   "outputs": [],
   "source": [
    "2021-2학기 수업내용을 정리할 예정임."
   ]
  },
  {
   "cell_type": "code",
   "execution_count": null,
   "id": "f3cf9af6-7e9a-4f57-bd6b-cbcd679f9ef5",
   "metadata": {},
   "outputs": [],
   "source": [
    "수업은 통계학과 최규빈 교수님의 수업임"
   ]
  },
  {
   "cell_type": "code",
   "execution_count": null,
   "id": "63f816bf-4934-406f-b579-95b9e2bd197d",
   "metadata": {},
   "outputs": [],
   "source": [
    "전면 비대면 강의였음"
   ]
  }
 ],
 "metadata": {
  "kernelspec": {
   "display_name": "Python 3",
   "language": "python",
   "name": "python3"
  },
  "language_info": {
   "codemirror_mode": {
    "name": "ipython",
    "version": 3
   },
   "file_extension": ".py",
   "mimetype": "text/x-python",
   "name": "python",
   "nbconvert_exporter": "python",
   "pygments_lexer": "ipython3",
   "version": "3.8.8"
  }
 },
 "nbformat": 4,
 "nbformat_minor": 5
}
