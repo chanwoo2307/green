{
 "cells": [
  {
   "cell_type": "markdown",
   "id": "92fd4b99-0d95-4bd0-b1d2-a18ed0ecd90d",
   "metadata": {},
   "source": [
    "## 데이터 마이닝 "
   ]
  },
  {
   "cell_type": "code",
   "execution_count": null,
   "id": "734afc9e-564f-4769-acc6-9af5d834b4ce",
   "metadata": {},
   "outputs": [],
   "source": [
    "2022-1학기 수업내용을 정리할 예정임."
   ]
  },
  {
   "cell_type": "code",
   "execution_count": null,
   "id": "d8b06e75-f2a7-41d1-af6e-3c9990b45eb1",
   "metadata": {},
   "outputs": [],
   "source": [
    "수업은 통계학과 이명미 교수님의 수업"
   ]
  },
  {
   "cell_type": "code",
   "execution_count": null,
   "id": "2bd5a969-27e4-49b5-b9f0-a90e9c054212",
   "metadata": {},
   "outputs": [],
   "source": [
    "화요일 4 ~ 5시, 목요일 2시 ~ 4시 수업이며 대면을 통한 강의 "
   ]
  }
 ],
 "metadata": {
  "kernelspec": {
   "display_name": "Python 3",
   "language": "python",
   "name": "python3"
  },
  "language_info": {
   "codemirror_mode": {
    "name": "ipython",
    "version": 3
   },
   "file_extension": ".py",
   "mimetype": "text/x-python",
   "name": "python",
   "nbconvert_exporter": "python",
   "pygments_lexer": "ipython3",
   "version": "3.8.8"
  }
 },
 "nbformat": 4,
 "nbformat_minor": 5
}
