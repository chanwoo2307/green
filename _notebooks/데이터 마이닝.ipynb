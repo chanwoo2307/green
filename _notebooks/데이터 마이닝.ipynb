{
 "cells": [
  {
   "cell_type": "markdown",
   "id": "92fd4b99-0d95-4bd0-b1d2-a18ed0ecd90d",
   "metadata": {},
   "source": [
    "## 데이터 마이닝 "
   ]
  },
  {
   "cell_type": "code",
   "execution_count": null,
   "id": "734afc9e-564f-4769-acc6-9af5d834b4ce",
   "metadata": {},
   "outputs": [],
   "source": []
  }
 ],
 "metadata": {
  "kernelspec": {
   "display_name": "Python 3",
   "language": "python",
   "name": "python3"
  },
  "language_info": {
   "codemirror_mode": {
    "name": "ipython",
    "version": 3
   },
   "file_extension": ".py",
   "mimetype": "text/x-python",
   "name": "python",
   "nbconvert_exporter": "python",
   "pygments_lexer": "ipython3",
   "version": "3.8.8"
  }
 },
 "nbformat": 4,
 "nbformat_minor": 5
}
