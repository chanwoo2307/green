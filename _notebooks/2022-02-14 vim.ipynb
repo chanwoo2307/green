{
 "cells": [
  {
   "cell_type": "markdown",
   "id": "d65adee4-b161-4487-9520-b5d0477a5991",
   "metadata": {},
   "source": [
    "### vim의 기초"
   ]
  },
  {
   "cell_type": "markdown",
   "id": "95027621-c902-417a-93a3-f8b906c30d24",
   "metadata": {},
   "source": [
    "vim을 만들었을 때는 CLI 환경에서 만들었기 때문에 마우스로 드래그나 ctrl +c 와 같은 작업을 할 수 없었다.\n",
    "    "
   ]
  },
  {
   "cell_type": "markdown",
   "id": "1d8ccf5d-1504-4109-8bb0-980bce37c3b2",
   "metadata": {},
   "source": [
    "## vim의 명령어"
   ]
  },
  {
   "cell_type": "markdown",
   "id": "044f3bcd-fc87-4471-bee2-b9a8e55cd901",
   "metadata": {},
   "source": [
    "터미널을 켜고 vim test.c(저장할 파일명)을 입력하면 vim의 기본모드로 갈 수 있다. "
   ]
  },
  {
   "cell_type": "raw",
   "id": "b652a45b-c27e-4dcf-870a-c93b8e89b642",
   "metadata": {},
   "source": [
    "기본모드에서 i를 입력하여 쓰기모드로 가거나 v를 입력하여 드래그르 할 수 있는 비주얼 모드로 갈 수 있다. \n",
    "기본모드에서 : 을 입력하고 w를 눌러 엔터를 치는 순간 쓰기모드에서 작업했던 내용을 저장할 수 있다.\n",
    "기본모드에서 : 을 입력하고 q를 눌러 엔터를 치는 순간 나가진다.\n",
    "기본모드에서 u를 입력하면 ctrl +z 기능을 사용할 수 있다.\n",
    "기본모드에서 /를 입력하고 찾고 싶은 내용을 치면 ctrl + f 기능을 사용할 수 있다."
   ]
  },
  {
   "cell_type": "raw",
   "id": "2070bd15-2985-4255-8a11-75c7fd543ca1",
   "metadata": {},
   "source": [
    "쓰기모드에 들어오면 --INSERT--가 화면에 나타난다.\n",
    "쓰기모드에서 예를 들어 int main(){\n",
    "        return 0;\n",
    "}와 같은 입력을 할 수 있고 쓰기모드에서 esc를 누르면 다시 기본모드로 돌아간다.\n"
   ]
  },
  {
   "cell_type": "markdown",
   "id": "e6e7c53c-6f73-4dd1-989e-82dce40c2b79",
   "metadata": {},
   "source": [
    "#### 복사 및 붙여넣기"
   ]
  },
  {
   "cell_type": "markdown",
   "id": "e5b1a803-9ee3-404c-adbf-22aac79c0ab6",
   "metadata": {},
   "source": [
    "코드를 입력한 줄에서 yy를 누르면 yy를 눌렀던 한줄이 복사가 되며 p를 누르면 붙여넣기를 할 수 있다."
   ]
  },
  {
   "cell_type": "markdown",
   "id": "6306bdd0-f8cc-403a-8887-cfc0698d4508",
   "metadata": {},
   "source": [
    "또한 dd를 누르면 잘라내기도 가능하다."
   ]
  },
  {
   "cell_type": "markdown",
   "id": "8d46f936-8fad-4d01-bba6-08c62c17fb9c",
   "metadata": {},
   "source": [
    "### gcc "
   ]
  },
  {
   "cell_type": "markdown",
   "id": "abd5c6fe-0dce-4949-a34b-f39b3331ff94",
   "metadata": {},
   "source": [
    "gcc는 코딩을 하기 위해 알아야 할 하나의 컴파일러이다."
   ]
  },
  {
   "cell_type": "markdown",
   "id": "3a010b45-a888-41d4-ba71-1d7b23dacd1f",
   "metadata": {},
   "source": [
    "gcc test.c를 입력하면 a.out으로 프로그램이 나오며\n",
    "gcc -o result test.c를 입력하면 결과의 이름을 result를 저장하고 test.c를 넣는다는 의미이다."
   ]
  }
 ],
 "metadata": {
  "kernelspec": {
   "display_name": "Python 3",
   "language": "python",
   "name": "python3"
  },
  "language_info": {
   "codemirror_mode": {
    "name": "ipython",
    "version": 3
   },
   "file_extension": ".py",
   "mimetype": "text/x-python",
   "name": "python",
   "nbconvert_exporter": "python",
   "pygments_lexer": "ipython3",
   "version": "3.8.8"
  }
 },
 "nbformat": 4,
 "nbformat_minor": 5
}
