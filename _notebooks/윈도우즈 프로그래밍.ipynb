{
 "cells": [
  {
   "cell_type": "markdown",
   "id": "c3108313-b63e-469c-a00f-5d1e64e3a135",
   "metadata": {},
   "source": [
    "## 윈도우즈 프로그래밍"
   ]
  },
  {
   "cell_type": "code",
   "execution_count": null,
   "id": "46d67ccf-ab44-431b-9808-4c533ddf3fd0",
   "metadata": {},
   "outputs": [],
   "source": [
    "2022-1학기 수업내용을 정리할 예정임."
   ]
  },
  {
   "cell_type": "raw",
   "id": "8ddee6c6-6f67-4685-9eac-266f336629a6",
   "metadata": {},
   "source": [
    "컴퓨터 공학과 복수전공의 내용임\n",
    "월요일 4 ~ 6시 수요일 4 ~ 5시 강의이지만 전면 비대면 강의임\n",
    "줌수업이 아닌 유튜브를 통한 강의 시청\n"
   ]
  },
  {
   "cell_type": "markdown",
   "id": "7338917a-dc28-4367-9475-986a6069eb0f",
   "metadata": {},
   "source": [
    "사용하는 언어 : c# "
   ]
  },
  {
   "cell_type": "markdown",
   "id": "2c2a1169-1e3b-4024-994a-c68a7ee49084",
   "metadata": {},
   "source": [
    "사용하는 프레임워크 : WPF"
   ]
  },
  {
   "cell_type": "markdown",
   "id": "4aaa4d16-51c5-435c-a9d3-2af1aab871b5",
   "metadata": {},
   "source": [
    "질문은 클라썸을 활용"
   ]
  },
  {
   "cell_type": "markdown",
   "id": "899a97cd-a769-4aba-9204-da65b747e6f2",
   "metadata": {},
   "source": [
    "모든 퀴즈는 수요일/ 금요일  23:55분까지 내야함"
   ]
  }
 ],
 "metadata": {
  "kernelspec": {
   "display_name": "Python 3",
   "language": "python",
   "name": "python3"
  },
  "language_info": {
   "codemirror_mode": {
    "name": "ipython",
    "version": 3
   },
   "file_extension": ".py",
   "mimetype": "text/x-python",
   "name": "python",
   "nbconvert_exporter": "python",
   "pygments_lexer": "ipython3",
   "version": "3.8.8"
  }
 },
 "nbformat": 4,
 "nbformat_minor": 5
}
