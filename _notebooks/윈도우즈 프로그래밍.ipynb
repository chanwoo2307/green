{
 "cells": [
  {
   "cell_type": "markdown",
   "id": "c3108313-b63e-469c-a00f-5d1e64e3a135",
   "metadata": {},
   "source": [
    "## 윈도우즈 프로그래밍"
   ]
  },
  {
   "cell_type": "code",
   "execution_count": null,
   "id": "46d67ccf-ab44-431b-9808-4c533ddf3fd0",
   "metadata": {},
   "outputs": [],
   "source": [
    "2022-1학기 수업내용을 정리할 예정임."
   ]
  }
 ],
 "metadata": {
  "kernelspec": {
   "display_name": "Python 3",
   "language": "python",
   "name": "python3"
  },
  "language_info": {
   "codemirror_mode": {
    "name": "ipython",
    "version": 3
   },
   "file_extension": ".py",
   "mimetype": "text/x-python",
   "name": "python",
   "nbconvert_exporter": "python",
   "pygments_lexer": "ipython3",
   "version": "3.8.8"
  }
 },
 "nbformat": 4,
 "nbformat_minor": 5
}
