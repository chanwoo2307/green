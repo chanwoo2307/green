{
 "cells": [
  {
   "cell_type": "markdown",
   "id": "c3108313-b63e-469c-a00f-5d1e64e3a135",
   "metadata": {},
   "source": [
    "## 윈도우즈 프로그래밍"
   ]
  },
  {
   "cell_type": "code",
   "execution_count": null,
   "id": "46d67ccf-ab44-431b-9808-4c533ddf3fd0",
   "metadata": {},
   "outputs": [],
   "source": [
    "2022-1학기 수업내용을 정리할 예정임."
   ]
  },
  {
   "cell_type": "code",
   "execution_count": null,
   "id": "5603c522-aa83-4e52-871d-e4909af32c87",
   "metadata": {},
   "outputs": [],
   "source": [
    "컴퓨터 공학과 복수전공의 내용임"
   ]
  },
  {
   "cell_type": "markdown",
   "id": "7338917a-dc28-4367-9475-986a6069eb0f",
   "metadata": {},
   "source": [
    "사용하는 언어 : c# "
   ]
  },
  {
   "cell_type": "markdown",
   "id": "2c2a1169-1e3b-4024-994a-c68a7ee49084",
   "metadata": {},
   "source": [
    "사용하는 프레임워크 : WPF"
   ]
  }
 ],
 "metadata": {
  "kernelspec": {
   "display_name": "Python 3",
   "language": "python",
   "name": "python3"
  },
  "language_info": {
   "codemirror_mode": {
    "name": "ipython",
    "version": 3
   },
   "file_extension": ".py",
   "mimetype": "text/x-python",
   "name": "python",
   "nbconvert_exporter": "python",
   "pygments_lexer": "ipython3",
   "version": "3.8.8"
  }
 },
 "nbformat": 4,
 "nbformat_minor": 5
}
