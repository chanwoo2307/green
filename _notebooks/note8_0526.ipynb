{
 "cells": [
  {
   "cell_type": "markdown",
   "id": "9962ade5-2629-4830-9101-e27f76e59e00",
   "metadata": {},
   "source": [
    "### 파이썬을 실행하는 방법 "
   ]
  },
  {
   "cell_type": "markdown",
   "id": "4e692b41-87f2-46f3-979b-bd1aff416078",
   "metadata": {},
   "source": [
    "#### 방법1: 시스템 명령라인 \n",
    "\n",
    "(1) 실행할 내용을 메모장에 적는다. 예를들어서 \n",
    "```\n",
    "a=[1,2,3]\n",
    "a=a+[4,5]\n",
    "print(a)\n",
    "```\n",
    "와 같은 내용을 적는다. \n",
    "\n",
    "(2) 파일이름을 `test.py`로 만든다. \n"
   ]
  },
  {
   "cell_type": "markdown",
   "id": "8bf4d464-557f-4847-a9d1-c615d31661f6",
   "metadata": {},
   "source": [
    "(3) 커맨드에서 아래를 입력한다. "
   ]
  },
  {
   "cell_type": "markdown",
   "id": "1ac7cfb4-efee-4cd7-8095-b4f975e0feb7",
   "metadata": {},
   "source": [
    "```\n",
    "(py38r40) cgb@cgb-All-Series:~/Desktop$ python test.py\n",
    "[1, 2, 3, 4, 5]\n",
    "```"
   ]
  },
  {
   "cell_type": "markdown",
   "id": "212c3115-e1ad-4c4d-969b-0014de7c54d5",
   "metadata": {},
   "source": [
    "#### 방법2: 대화형 프롬프트 (python, ipython) 활용 "
   ]
  },
  {
   "cell_type": "markdown",
   "id": "78ebbba7-dd61-47c4-a65b-c696c741169e",
   "metadata": {},
   "source": [
    "`-` 시스템 명령라인에서 python을 입력한뒤에 파이썬콘솔이 나오면 그곳에서 코드를 입력하고 실행"
   ]
  },
  {
   "cell_type": "markdown",
   "id": "ea38a925-acd8-4810-90d8-e20b042af304",
   "metadata": {},
   "source": [
    "```\n",
    "(py38r40) cgb@cgb-All-Series:~/Desktop$ python \n",
    "Python 3.8.5 (default, Sep  4 2020, 07:30:14) \n",
    "[GCC 7.3.0] :: Anaconda, Inc. on linux\n",
    "Type \"help\", \"copyright\", \"credits\" or \"license\" for more information.\n",
    "```\n",
    "```python\n",
    ">>> a=[1,2,3]\n",
    ">>> a\n",
    "[1, 2, 3]\n",
    ">>> a+[1,2]\n",
    "[1, 2, 3, 1, 2]\n",
    ">>> 'spam'*4\n",
    "'spamspamspamspam'\n",
    "```"
   ]
  },
  {
   "cell_type": "markdown",
   "id": "9b090228-0bb8-42fc-8af8-a2b9201be568",
   "metadata": {},
   "source": [
    "`-` 장점? \n",
    "- print를 하지 않아도 결과를 바로바로 확인가능 (디버깅, 테스트에 극도로 유리함)\n",
    "- 남의 코드를 빠르게 배울 수 있다. "
   ]
  },
  {
   "cell_type": "markdown",
   "id": "c8f57e75-53ce-4077-b429-fbc1fb6b1f4b",
   "metadata": {},
   "source": [
    "`-` 단점? \n",
    "- 코드를 실행하는 순간 사라진다. $\\to$ 그냥 test.py 쓰는것이 좋은것 같기도하다. "
   ]
  },
  {
   "cell_type": "markdown",
   "id": "6576e14d-8d85-448f-be49-201fba401d3c",
   "metadata": {},
   "source": [
    "#### 방법3: 모듈활용  "
   ]
  },
  {
   "cell_type": "markdown",
   "id": "2c3ea802-1282-4944-83aa-dec5ef452170",
   "metadata": {},
   "source": [
    "`-` 대화형 프롬프트 (파이썬 콘솔)에서 \n",
    "```python\n",
    "import test\n",
    "```"
   ]
  },
  {
   "cell_type": "markdown",
   "id": "1b2f0673-1ed3-4d0c-be7a-9abb5e13af84",
   "metadata": {},
   "source": [
    "를 치면 해결된다. "
   ]
  },
  {
   "cell_type": "markdown",
   "id": "4a71276e-eacd-4f63-afe0-4d3150c20ecc",
   "metadata": {},
   "source": [
    "#### 방법4: exec "
   ]
  },
  {
   "cell_type": "markdown",
   "id": "f840d5f0-f59e-4599-b05c-aa1a9d69fe5f",
   "metadata": {},
   "source": [
    "`-` test.py의 코드를 조금 수정하고 실행하고 싶다. "
   ]
  },
  {
   "cell_type": "markdown",
   "id": "95862caf-1168-43d3-b0c1-4ef73832481a",
   "metadata": {},
   "source": [
    "`-` 방법3으로는 한계점이 있음. (import는 한번만 수행되므로)"
   ]
  },
  {
   "cell_type": "markdown",
   "id": "d6c5b745-5186-4222-947b-0ebf1226bfcb",
   "metadata": {},
   "source": [
    "`-` 그냥 복사해서 붙여넣는 정도의 기능이 있으면 좋겠다. $\\to$ open, read, exec 조합으로 해결가능 "
   ]
  },
  {
   "cell_type": "markdown",
   "id": "145008ab-7fe6-4451-a4a8-430cfdd71f86",
   "metadata": {},
   "source": [
    "```python\n",
    ">>> exec(open('test.py').read())\n",
    "[1, 2, 3, 4, 5, 6, 7, 8, 9, 10, 11, 12]\n",
    "```"
   ]
  },
  {
   "cell_type": "markdown",
   "id": "f9ddae4e-67ae-49d2-8bf5-aa0ade9d7934",
   "metadata": {},
   "source": [
    "`-` 심지어 그냥 test.txt로 저장한뒤 실행해도 가능함. "
   ]
  },
  {
   "cell_type": "markdown",
   "id": "19e0e49c-e210-4f35-95f3-0bf21378fb6b",
   "metadata": {},
   "source": [
    "```python\n",
    ">>> exec(open('test.txt').read())\n",
    "[1, 2, 3, 4, 5, 6, 7, 8, 9, 10, 11, 12, 13, 14]\n",
    "```"
   ]
  },
  {
   "cell_type": "markdown",
   "id": "e041fba8-37d1-4a6f-a1ba-b5c915690e3d",
   "metadata": {},
   "source": [
    "### IDE "
   ]
  },
  {
   "cell_type": "markdown",
   "id": "241705f2-81a4-45fc-8222-cd587139c48d",
   "metadata": {},
   "source": [
    "`–` 통합개발환경 (IDE)\n",
    "- 주피터노트북\n",
    "- 주피터랩\n",
    "- 파이참\n",
    "- 스파이더\n",
    "- 비주얼스튜디오\n",
    "- IDLE"
   ]
  },
  {
   "cell_type": "markdown",
   "id": "679b2f9e-b0a5-4763-8803-539c8155b0d1",
   "metadata": {},
   "source": [
    "***어떻게 파이썬을 쓰는지에 대한 정답은 없습니다.***"
   ]
  }
 ],
 "metadata": {
  "kernelspec": {
   "display_name": "Python 3",
   "language": "python",
   "name": "python3"
  },
  "language_info": {
   "codemirror_mode": {
    "name": "ipython",
    "version": 3
   },
   "file_extension": ".py",
   "mimetype": "text/x-python",
   "name": "python",
   "nbconvert_exporter": "python",
   "pygments_lexer": "ipython3",
   "version": "3.8.5"
  }
 },
 "nbformat": 4,
 "nbformat_minor": 5
}
