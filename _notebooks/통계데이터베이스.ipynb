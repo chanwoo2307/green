{
 "cells": [
  {
   "cell_type": "markdown",
   "id": "d7f9b8cd-bce6-44a9-a4e7-a2b2208bc00e",
   "metadata": {},
   "source": [
    "## 통계데이터베이스"
   ]
  },
  {
   "cell_type": "markdown",
   "id": "e9ec40fb-bbf7-4b74-a84f-cce845cfa2f0",
   "metadata": {},
   "source": [
    "월요일 2시 ~ 4시 , 수요일 2~3시 강의이며 대면 강의임"
   ]
  },
  {
   "cell_type": "markdown",
   "id": "4d4c1537-44e8-4ac0-8bfd-43d01f889df4",
   "metadata": {},
   "source": [
    "안정용 교수님 수업이며 수업 자료는 enook을 사용함"
   ]
  }
 ],
 "metadata": {
  "kernelspec": {
   "display_name": "Python 3",
   "language": "python",
   "name": "python3"
  },
  "language_info": {
   "codemirror_mode": {
    "name": "ipython",
    "version": 3
   },
   "file_extension": ".py",
   "mimetype": "text/x-python",
   "name": "python",
   "nbconvert_exporter": "python",
   "pygments_lexer": "ipython3",
   "version": "3.8.8"
  }
 },
 "nbformat": 4,
 "nbformat_minor": 5
}
