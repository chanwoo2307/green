{
 "cells": [
  {
   "cell_type": "markdown",
   "id": "88449e74-8830-4756-87a4-42d3fbd138cb",
   "metadata": {},
   "source": [
    "## 통계전산"
   ]
  },
  {
   "cell_type": "markdown",
   "id": "22dc460e-642d-40ea-a32d-71f5ee6c97be",
   "metadata": {},
   "source": [
    "최규빈 교수님의 수업"
   ]
  },
  {
   "cell_type": "markdown",
   "id": "b5ef1ef9-d9a8-4809-b407-a63df9cd15a2",
   "metadata": {},
   "source": [
    "화요일 2시 ~ 4시 , 목요일 4시 ~ 5시 수업임"
   ]
  },
  {
   "cell_type": "markdown",
   "id": "3915490f-1a86-4e3e-b095-f552a1d3b5c7",
   "metadata": {},
   "source": [
    "Jupyter = Julia + Python + R의 느낌"
   ]
  },
  {
   "cell_type": "markdown",
   "id": "fd2a1d3c-fe3b-4c6a-9136-d9634baf5fcd",
   "metadata": {},
   "source": [
    "줄리아 터미널을 키고 키보드의 ]을 누르면 패키지를 다운받을 수 있는 상태가 됨"
   ]
  },
  {
   "cell_type": "markdown",
   "id": "6623ef2b-a26b-4790-a3c3-b4f0be781cc2",
   "metadata": {},
   "source": [
    "? 을 누르면 도움말을 알 수 있는 상태가 됨"
   ]
  },
  {
   "cell_type": "markdown",
   "id": "8bd866f3-df66-472b-9b64-732fd89942c0",
   "metadata": {},
   "source": [
    "### 줄리아를 실행해보자"
   ]
  },
  {
   "cell_type": "markdown",
   "id": "f4b707ee-14cf-4a40-9806-3e7a53dae760",
   "metadata": {},
   "source": [
    "1. import Pluto 를 실행"
   ]
  },
  {
   "cell_type": "markdown",
   "id": "9de020f1-94dd-4a2c-92c3-aefcbff67265",
   "metadata": {},
   "source": [
    "2. Pluto.run() 을 실행하고 조금 기다리면 자동으로 Pluto가 인테넷 창에서 실행된다."
   ]
  },
  {
   "cell_type": "markdown",
   "id": "7946c5dc-c2c0-4736-a2f1-33faf504d2b1",
   "metadata": {},
   "source": [
    "3. new notebook을 통해 플루토 개발 환경을 이용한다."
   ]
  }
 ],
 "metadata": {
  "kernelspec": {
   "display_name": "Python 3",
   "language": "python",
   "name": "python3"
  },
  "language_info": {
   "codemirror_mode": {
    "name": "ipython",
    "version": 3
   },
   "file_extension": ".py",
   "mimetype": "text/x-python",
   "name": "python",
   "nbconvert_exporter": "python",
   "pygments_lexer": "ipython3",
   "version": "3.8.8"
  }
 },
 "nbformat": 4,
 "nbformat_minor": 5
}
