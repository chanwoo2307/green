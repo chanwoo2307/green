{
 "cells": [
  {
   "cell_type": "markdown",
   "id": "88449e74-8830-4756-87a4-42d3fbd138cb",
   "metadata": {},
   "source": [
    "## 통계전산"
   ]
  },
  {
   "cell_type": "markdown",
   "id": "22dc460e-642d-40ea-a32d-71f5ee6c97be",
   "metadata": {},
   "source": [
    "최규빈 교수님의 수업"
   ]
  },
  {
   "cell_type": "markdown",
   "id": "b5ef1ef9-d9a8-4809-b407-a63df9cd15a2",
   "metadata": {},
   "source": [
    "화요일 2시 ~ 4시 , 목요일 4시 ~ 5시 수업임"
   ]
  }
 ],
 "metadata": {
  "kernelspec": {
   "display_name": "Python 3",
   "language": "python",
   "name": "python3"
  },
  "language_info": {
   "codemirror_mode": {
    "name": "ipython",
    "version": 3
   },
   "file_extension": ".py",
   "mimetype": "text/x-python",
   "name": "python",
   "nbconvert_exporter": "python",
   "pygments_lexer": "ipython3",
   "version": "3.8.8"
  }
 },
 "nbformat": 4,
 "nbformat_minor": 5
}
