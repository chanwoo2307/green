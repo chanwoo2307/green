{
 "cells": [
  {
   "cell_type": "markdown",
   "id": "88449e74-8830-4756-87a4-42d3fbd138cb",
   "metadata": {},
   "source": [
    "## 통계전산"
   ]
  },
  {
   "cell_type": "markdown",
   "id": "22dc460e-642d-40ea-a32d-71f5ee6c97be",
   "metadata": {},
   "source": [
    "최규빈 교수님의 수업"
   ]
  },
  {
   "cell_type": "markdown",
   "id": "b5ef1ef9-d9a8-4809-b407-a63df9cd15a2",
   "metadata": {},
   "source": [
    "화요일 2시 ~ 4시 , 목요일 4시 ~ 5시 수업임"
   ]
  },
  {
   "cell_type": "markdown",
   "id": "3915490f-1a86-4e3e-b095-f552a1d3b5c7",
   "metadata": {},
   "source": [
    "Jupyter = Julia + Python + R의 느낌"
   ]
  },
  {
   "cell_type": "markdown",
   "id": "fd2a1d3c-fe3b-4c6a-9136-d9634baf5fcd",
   "metadata": {},
   "source": [
    "줄리아 터미널을 키고 키보드의 ]을 누르면 패키지를 다운받을 수 있는 상태가 됨"
   ]
  },
  {
   "cell_type": "markdown",
   "id": "6623ef2b-a26b-4790-a3c3-b4f0be781cc2",
   "metadata": {},
   "source": [
    "? 을 누르면 도움말을 알 수 있는 상태가 됨"
   ]
  },
  {
   "cell_type": "markdown",
   "id": "8bd866f3-df66-472b-9b64-732fd89942c0",
   "metadata": {},
   "source": [
    "### 줄리아를 실행해보자"
   ]
  },
  {
   "cell_type": "markdown",
   "id": "f4b707ee-14cf-4a40-9806-3e7a53dae760",
   "metadata": {},
   "source": [
    "1. import Pluto 를 실행"
   ]
  },
  {
   "cell_type": "markdown",
   "id": "9de020f1-94dd-4a2c-92c3-aefcbff67265",
   "metadata": {},
   "source": [
    "2. Pluto.run() 을 실행하고 조금 기다리면 자동으로 Pluto가 인테넷 창에서 실행된다."
   ]
  },
  {
   "cell_type": "markdown",
   "id": "7946c5dc-c2c0-4736-a2f1-33faf504d2b1",
   "metadata": {},
   "source": [
    "3. new notebook을 통해 플루토 개발 환경을 이용한다."
   ]
  },
  {
   "cell_type": "code",
   "execution_count": null,
   "id": "f7041657-941f-41ae-8ff8-f31cea547b46",
   "metadata": {},
   "outputs": [],
   "source": []
  },
  {
   "cell_type": "markdown",
   "id": "387fff05-cfa8-4319-b387-aa4fd9da5a9a",
   "metadata": {},
   "source": [
    "#### Pluto에서 파일여는 방법"
   ]
  },
  {
   "cell_type": "markdown",
   "id": "389a730a-7329-47da-8b3b-75f43174bfc0",
   "metadata": {},
   "source": [
    "1. 줄리아에서 Pluto.run()을 통해 플루토를 실행한다"
   ]
  },
  {
   "cell_type": "code",
   "execution_count": null,
   "id": "2ebcc896-8417-43e5-8ef7-bcc685f617c4",
   "metadata": {},
   "outputs": [],
   "source": [
    "2. Open from file에서 내가 다운한 파일을 찾은 뒤에 open을 한다."
   ]
  },
  {
   "cell_type": "code",
   "execution_count": null,
   "id": "f4726479-26bc-4c3f-ac27-c851580ed31c",
   "metadata": {},
   "outputs": [],
   "source": []
  },
  {
   "cell_type": "markdown",
   "id": "8adfc4d5-95fd-4c4f-8954-fe6dfe4b349f",
   "metadata": {},
   "source": [
    "### 3월 8일 수업내용 정리"
   ]
  },
  {
   "cell_type": "markdown",
   "id": "8e6d146b-db8f-4dc4-86dd-450dc1bb3097",
   "metadata": {},
   "source": [
    "#### 1. Pluto는 인터렉티브 노트북이고 jupyter lab은 인터렉티브 노트북이 아니다.\n",
    " \n"
   ]
  },
  {
   "cell_type": "raw",
   "id": "720558be-f95b-47d8-be82-259b8f7789e2",
   "metadata": {},
   "source": [
    "인터렉티브하다는 것은 a=3, b=2, c=a+b라고 했을때 c=5일 것이다.\n",
    "그 후에 a=5라고 바꾸었을 때 주피터랩은 c를 다시 실행헤도 c는 5이지만 \n",
    "플루토 환경에서는 a를 5로 바꾸는 순간 c가 7로 바뀐다. \n"
   ]
  },
  {
   "cell_type": "code",
   "execution_count": 2,
   "id": "2256fea3-25e3-446f-bb6d-f1363ace01f7",
   "metadata": {},
   "outputs": [],
   "source": [
    "a=3"
   ]
  },
  {
   "cell_type": "code",
   "execution_count": 6,
   "id": "a29f3462-1522-4b2e-bc79-fb1df9ae1368",
   "metadata": {},
   "outputs": [],
   "source": [
    "b=2"
   ]
  },
  {
   "cell_type": "code",
   "execution_count": 8,
   "id": "83b81818-31eb-43ea-9913-c9321b82a601",
   "metadata": {},
   "outputs": [
    {
     "data": {
      "text/plain": [
       "5"
      ]
     },
     "execution_count": 8,
     "metadata": {},
     "output_type": "execute_result"
    }
   ],
   "source": [
    "c=a+b\n",
    "c"
   ]
  },
  {
   "cell_type": "code",
   "execution_count": 9,
   "id": "d033c843-fae1-4ef5-935f-ce438912aec4",
   "metadata": {},
   "outputs": [],
   "source": [
    "a=5"
   ]
  },
  {
   "cell_type": "code",
   "execution_count": 10,
   "id": "d369763e-3343-43d3-a2f0-ae60d80ed994",
   "metadata": {},
   "outputs": [
    {
     "data": {
      "text/plain": [
       "5"
      ]
     },
     "execution_count": 10,
     "metadata": {},
     "output_type": "execute_result"
    }
   ],
   "source": [
    "c"
   ]
  },
  {
   "cell_type": "code",
   "execution_count": null,
   "id": "5d50e947-530a-4310-abd8-7f470d80486e",
   "metadata": {},
   "outputs": [],
   "source": []
  },
  {
   "cell_type": "markdown",
   "id": "e0cb4885-d7a2-4e70-872d-879a71aac1b1",
   "metadata": {},
   "source": [
    "#### 2. 플루토에서 마크다운을 사용하는 방법"
   ]
  },
  {
   "cell_type": "markdown",
   "id": "28e88b03-381b-4ecf-82c5-102ce8be79ec",
   "metadata": {},
   "source": [
    "주피터랩에서는 esc+m을 누르면 마크다운을 사용할 수 있지만 플루토에서는 md\"~~~\" 를 입력해야 마크다운을 사용할 수 있다."
   ]
  },
  {
   "cell_type": "markdown",
   "id": "97112a85-683d-4aa9-99fb-adab4639b070",
   "metadata": {},
   "source": [
    "### 3. 플루토에서는 여러 줄에 코드를 작성하는 것은 불편하다. "
   ]
  },
  {
   "cell_type": "raw",
   "id": "5c4ce3b8-b7e6-4942-b9a7-1afa532910a0",
   "metadata": {},
   "source": [
    "예를 들어 \n",
    "c=a+b #line 1\n",
    "c     #line 2   라는 코드는 주피터랩에서는 사용할 수 있다."
   ]
  },
  {
   "cell_type": "raw",
   "id": "60e39978-56b3-4635-98bc-b400accc1a2a",
   "metadata": {},
   "source": [
    "begin\n",
    "     c=a+b #line 1\n",
    "     c     #line 2  \n",
    "end"
   ]
  },
  {
   "cell_type": "markdown",
   "id": "2e9559b2-fc4f-453f-b7d9-5eb04b9c25b6",
   "metadata": {},
   "source": [
    "하지만 플루토에서는 begin과 end를 처음과 끝에 작성해야 쓸 수 있다."
   ]
  },
  {
   "cell_type": "markdown",
   "id": "9de39d11-c537-4f2b-a197-bf5cb1ed3869",
   "metadata": {},
   "source": [
    "### 4.위젯사용법 "
   ]
  },
  {
   "cell_type": "code",
   "execution_count": null,
   "id": "5267da7d-28d3-43e8-8791-420563906c62",
   "metadata": {},
   "outputs": [],
   "source": []
  },
  {
   "cell_type": "code",
   "execution_count": null,
   "id": "ad681fb9-7448-475d-bb2e-7fc721d8c312",
   "metadata": {},
   "outputs": [],
   "source": [
    "@bind class Radio([\"1학년\", \"2학년\", \"3학년\", \"4학년\"])"
   ]
  },
  {
   "cell_type": "code",
   "execution_count": null,
   "id": "b2e9ed6d-b609-4793-bbd4-62667cd38bdc",
   "metadata": {},
   "outputs": [],
   "source": []
  },
  {
   "cell_type": "code",
   "execution_count": null,
   "id": "ed242dec-59b0-4c19-885e-571f90dc7473",
   "metadata": {},
   "outputs": [],
   "source": []
  }
 ],
 "metadata": {
  "kernelspec": {
   "display_name": "Python 3",
   "language": "python",
   "name": "python3"
  },
  "language_info": {
   "codemirror_mode": {
    "name": "ipython",
    "version": 3
   },
   "file_extension": ".py",
   "mimetype": "text/x-python",
   "name": "python",
   "nbconvert_exporter": "python",
   "pygments_lexer": "ipython3",
   "version": "3.8.8"
  }
 },
 "nbformat": 4,
 "nbformat_minor": 5
}
