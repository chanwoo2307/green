{
 "cells": [
  {
   "cell_type": "markdown",
   "id": "d34d64e7-51e6-409b-8a64-06663b19a892",
   "metadata": {},
   "source": [
    "## 통계적 추론 "
   ]
  },
  {
   "cell_type": "markdown",
   "id": "f775a05a-ece8-493e-94cd-80e08767d781",
   "metadata": {},
   "source": [
    "2022-1학기 수업내용을 정리할 예정임."
   ]
  },
  {
   "cell_type": "markdown",
   "id": "3d8468d0-9da5-4125-9226-89e78c617236",
   "metadata": {},
   "source": [
    "월요일 11부터 1시,수요일 11 부터12시 수업"
   ]
  },
  {
   "cell_type": "markdown",
   "id": "c6112814-41e6-4e33-944c-f01254e49469",
   "metadata": {},
   "source": [
    "최혜미 교수님 수업, 수리통계학의 연장선이며 수리통계학 제 5판 교재를 계속 사용"
   ]
  },
  {
   "cell_type": "code",
   "execution_count": null,
   "id": "7b5cd385-27ac-4f5a-a861-572d8b535aff",
   "metadata": {},
   "outputs": [],
   "source": []
  },
  {
   "cell_type": "markdown",
   "id": "ff5641f4-da36-4bbe-9246-d2af0d9e46f9",
   "metadata": {},
   "source": [
    "### 수리 통계학 복습"
   ]
  },
  {
   "cell_type": "code",
   "execution_count": null,
   "id": "c3600047-5165-48cc-8893-c05a1bca19a9",
   "metadata": {},
   "outputs": [],
   "source": [
    "\n"
   ]
  },
  {
   "cell_type": "markdown",
   "id": "903ce714-ab6a-4cb6-8570-d00e7958bde3",
   "metadata": {},
   "source": [
    "#### 1장 확률이론"
   ]
  },
  {
   "cell_type": "code",
   "execution_count": null,
   "id": "817403e8-2676-431f-9523-f8296e689eee",
   "metadata": {},
   "outputs": [],
   "source": []
  }
 ],
 "metadata": {
  "kernelspec": {
   "display_name": "Python 3",
   "language": "python",
   "name": "python3"
  },
  "language_info": {
   "codemirror_mode": {
    "name": "ipython",
    "version": 3
   },
   "file_extension": ".py",
   "mimetype": "text/x-python",
   "name": "python",
   "nbconvert_exporter": "python",
   "pygments_lexer": "ipython3",
   "version": "3.8.8"
  }
 },
 "nbformat": 4,
 "nbformat_minor": 5
}
