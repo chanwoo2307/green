{
 "cells": [
  {
   "cell_type": "markdown",
   "id": "d34d64e7-51e6-409b-8a64-06663b19a892",
   "metadata": {},
   "source": [
    "## 통계적 추론 "
   ]
  },
  {
   "cell_type": "markdown",
   "id": "f775a05a-ece8-493e-94cd-80e08767d781",
   "metadata": {},
   "source": [
    "2022-1학기 수업내용을 정리할 예정임."
   ]
  },
  {
   "cell_type": "markdown",
   "id": "3d8468d0-9da5-4125-9226-89e78c617236",
   "metadata": {},
   "source": [
    "월요일 11~1시, 수요일 11~12시 수업"
   ]
  },
  {
   "cell_type": "markdown",
   "id": "c6112814-41e6-4e33-944c-f01254e49469",
   "metadata": {},
   "source": [
    "최혜미 교수님 수업"
   ]
  }
 ],
 "metadata": {
  "kernelspec": {
   "display_name": "Python 3",
   "language": "python",
   "name": "python3"
  },
  "language_info": {
   "codemirror_mode": {
    "name": "ipython",
    "version": 3
   },
   "file_extension": ".py",
   "mimetype": "text/x-python",
   "name": "python",
   "nbconvert_exporter": "python",
   "pygments_lexer": "ipython3",
   "version": "3.8.8"
  }
 },
 "nbformat": 4,
 "nbformat_minor": 5
}
