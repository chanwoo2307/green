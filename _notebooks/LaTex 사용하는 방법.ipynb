{
 "cells": [
  {
   "cell_type": "markdown",
   "id": "7f38a113-7fee-42a1-90e6-45f9e948e07a",
   "metadata": {},
   "source": [
    "## LaTex 사용하는 방법(수식 만드는 법)"
   ]
  },
  {
   "cell_type": "code",
   "execution_count": null,
   "id": "683ad699-e820-4241-b240-32acf93b9c19",
   "metadata": {},
   "outputs": [],
   "source": []
  },
  {
   "cell_type": "markdown",
   "id": "e5084fc8-d4cb-4cfc-b57b-1f02cd0f713c",
   "metadata": {},
   "source": [
    "Jupyter notebook에서는 LaTex를 이용하여 수식을 표기할 수 있다."
   ]
  },
  {
   "cell_type": "markdown",
   "id": "29b2de37-51cf-4f8a-a406-bfac8dc04136",
   "metadata": {},
   "source": [
    "### 1. 수식"
   ]
  },
  {
   "cell_type": "markdown",
   "id": "f047a831-b015-4922-a9f2-53dc48685144",
   "metadata": {},
   "source": [
    "아래와 같은 수식을 작성하려면 $y=2x+1$"
   ]
  },
  {
   "cell_type": "raw",
   "id": "84f7b348-a80d-49b9-9a98-44f55b300498",
   "metadata": {},
   "source": [
    "markdown을 체크하고 $$y=2x+1$$ 입력한다"
   ]
  },
  {
   "cell_type": "markdown",
   "id": "b48d7e9a-0cac-43b6-baef-56a6982a867d",
   "metadata": {},
   "source": [
    "1. $y=2x+1$"
   ]
  },
  {
   "cell_type": "markdown",
   "id": "7711c231-5cef-4be1-814c-71c47b10f7ba",
   "metadata": {},
   "source": [
    "2. $$y=2x+1$$"
   ]
  },
  {
   "cell_type": "markdown",
   "id": "65d5270f-28e2-4322-aec9-b9987af08c80",
   "metadata": {},
   "source": [
    "1과 2의 차이는 수식의 $의 개수 차이이다"
   ]
  },
  {
   "cell_type": "raw",
   "id": "249594a4-f9e3-441c-8125-988f5e7faa9c",
   "metadata": {},
   "source": [
    "수식을 글과 함께 사용하고 싶으면 $ 수식 $ 을 입력해야하고\n",
    "한줄로 분리해서 사용하고 싶으면 $$ 수식 $$을 입력하면 된다."
   ]
  },
  {
   "cell_type": "code",
   "execution_count": null,
   "id": "8f84b42f-7622-481f-a6d5-b4e654e0962d",
   "metadata": {},
   "outputs": [],
   "source": []
  },
  {
   "cell_type": "markdown",
   "id": "2066185a-0741-485e-8d81-526123d2d7d5",
   "metadata": {},
   "source": [
    "### 2. 첨자"
   ]
  },
  {
   "cell_type": "markdown",
   "id": "f5e6c47e-3cdd-47ff-a49d-e628cd147af9",
   "metadata": {},
   "source": [
    "아래첨자 $a_1$"
   ]
  },
  {
   "cell_type": "raw",
   "id": "7c6dbde7-2613-4703-ae7a-8939d12a8ade",
   "metadata": {},
   "source": [
    "$a_1$ 를 입력하면 된다."
   ]
  },
  {
   "cell_type": "markdown",
   "id": "9e097820-d8cd-41ae-bfd9-d44888f779c4",
   "metadata": {},
   "source": [
    "아래첨자 $a_{ij}$"
   ]
  },
  {
   "cell_type": "raw",
   "id": "77fcdb2d-69e4-4c3c-b5df-ca6808ca285b",
   "metadata": {},
   "source": [
    "$a_{ij}$ 를 입력하면 된다."
   ]
  },
  {
   "cell_type": "markdown",
   "id": "f013eb11-4823-446b-a11d-483f9fcbbe74",
   "metadata": {},
   "source": [
    "위첨자 $b^2$"
   ]
  },
  {
   "cell_type": "markdown",
   "id": "55d4c9a7-87e6-48f2-a229-a60bc44f5039",
   "metadata": {},
   "source": [
    "$b^2$ 를 입력하면 된다."
   ]
  },
  {
   "cell_type": "markdown",
   "id": "1a0517db-820a-48e9-a515-5f639d17e2a1",
   "metadata": {},
   "source": [
    "위첨자 $b^{ij}$"
   ]
  },
  {
   "cell_type": "raw",
   "id": "8a21acaa-029c-4344-a20b-3f5f62e8c5ae",
   "metadata": {},
   "source": [
    "$b^{ij}$ 를 입력하면 된다."
   ]
  },
  {
   "cell_type": "markdown",
   "id": "f71cc56e-4d7b-4626-8b15-f768ba96de6e",
   "metadata": {},
   "source": [
    "$c_1^2$"
   ]
  },
  {
   "cell_type": "raw",
   "id": "b01ff2d1-9b03-4bf8-9c01-5adf50d98c9d",
   "metadata": {},
   "source": [
    "$c_1^2$ 를 입력하면 된다."
   ]
  },
  {
   "cell_type": "code",
   "execution_count": null,
   "id": "516cd546-1123-410a-831e-296bbf6a56db",
   "metadata": {},
   "outputs": [],
   "source": []
  },
  {
   "cell_type": "markdown",
   "id": "46971cff-fd6f-4025-ad5a-2b3e53d39b5d",
   "metadata": {},
   "source": [
    "### 3. 다항식"
   ]
  },
  {
   "cell_type": "markdown",
   "id": "d833708a-a9de-44d4-bd10-2c8d5f30497e",
   "metadata": {},
   "source": [
    "$ y=x^3+2x^2+x+3 $"
   ]
  },
  {
   "cell_type": "raw",
   "id": "18f88547-4545-48ef-ae1f-8cb3a0f5893f",
   "metadata": {},
   "source": [
    "$ y=x^3+2x^2+x+3 $를 입력하면 된다."
   ]
  },
  {
   "cell_type": "code",
   "execution_count": null,
   "id": "f83bfe93-7d75-493a-a796-6179d7603a08",
   "metadata": {},
   "outputs": [],
   "source": []
  },
  {
   "cell_type": "markdown",
   "id": "993ce185-02aa-481d-b027-470f5093b8a3",
   "metadata": {},
   "source": [
    "### 4. 제곱근"
   ]
  },
  {
   "cell_type": "markdown",
   "id": "7dd9113d-ecaf-4fa6-97ab-70eaa3c83f28",
   "metadata": {},
   "source": [
    "$ y=\\sqrt x$ "
   ]
  },
  {
   "cell_type": "raw",
   "id": "9c8cf12b-0619-494b-876f-0b580a106534",
   "metadata": {},
   "source": [
    "$y=\\sqrt x$ 를 입력하면 된다."
   ]
  },
  {
   "cell_type": "code",
   "execution_count": null,
   "id": "55d50fcf-3853-4d1a-a727-f70ccfb5d1e9",
   "metadata": {},
   "outputs": [],
   "source": []
  },
  {
   "cell_type": "markdown",
   "id": "9512eba5-90ff-42f7-b24a-3ff83a71e2f0",
   "metadata": {},
   "source": [
    "### 5. 삼각함수"
   ]
  },
  {
   "cell_type": "code",
   "execution_count": null,
   "id": "b56df780-3cd7-4d64-86b1-59b25f2e6456",
   "metadata": {},
   "outputs": [],
   "source": []
  },
  {
   "cell_type": "markdown",
   "id": "791fdce7-3f02-48d2-b01a-b6a3d924d4ad",
   "metadata": {},
   "source": [
    "$y= \\sin x$ ,\n",
    "$y=\\cos x $ , \n",
    "$y=\\tan x $ "
   ]
  },
  {
   "cell_type": "raw",
   "id": "1ee33c78-2b22-475e-a2db-6272ba3684db",
   "metadata": {},
   "source": [
    "$y=\\sin x$ , $ y=\\cos x$ , $y=\\tan x $ 를 입력하면 된다."
   ]
  },
  {
   "cell_type": "code",
   "execution_count": null,
   "id": "130019ab-c4e6-4bdc-aaf2-d6e32d32ac15",
   "metadata": {},
   "outputs": [],
   "source": []
  },
  {
   "cell_type": "markdown",
   "id": "e4e673f0-3fdb-4675-aff0-5b74fbf83bbf",
   "metadata": {},
   "source": [
    "### 6. 분수"
   ]
  },
  {
   "cell_type": "code",
   "execution_count": null,
   "id": "d962e504-5469-4a89-ba47-59b3d0a2e0d4",
   "metadata": {},
   "outputs": [],
   "source": []
  },
  {
   "cell_type": "markdown",
   "id": "0778ab66-f0a6-4753-8377-8b617b4813b4",
   "metadata": {},
   "source": [
    "$y=\\frac{3}{4}$"
   ]
  },
  {
   "cell_type": "raw",
   "id": "66d4aa87-a7f3-4189-ae3d-46cb6814084b",
   "metadata": {},
   "source": [
    "$y=\\frac{3}{4}$ 를 입력하면 된다."
   ]
  },
  {
   "cell_type": "markdown",
   "id": "f7a0dfba-ef54-4b6a-9599-6e99e5d08d01",
   "metadata": {},
   "source": [
    "### 7. 시그마"
   ]
  },
  {
   "cell_type": "markdown",
   "id": "04113def-3dba-4c44-b146-131e954b96a4",
   "metadata": {},
   "source": [
    "$ y=\\sum_{k=1}^n a_k$ 를 입력하면 된다."
   ]
  },
  {
   "cell_type": "code",
   "execution_count": null,
   "id": "568bf265-697f-4b40-9036-b79cf5b87565",
   "metadata": {},
   "outputs": [],
   "source": []
  },
  {
   "cell_type": "markdown",
   "id": "7d29a3f3-f9a6-48ea-9fd6-8ef25cc7fb63",
   "metadata": {},
   "source": [
    "### 8. 곱집합 "
   ]
  },
  {
   "cell_type": "markdown",
   "id": "13e23484-5931-474a-b84e-073c20d895ac",
   "metadata": {},
   "source": [
    "$ y=prod_{k=1}^n a_k $"
   ]
  },
  {
   "cell_type": "markdown",
   "id": "fcb8a84c-3b2a-4130-a3b0-fef630c4be8a",
   "metadata": {},
   "source": [
    "$ y=prod_{k=1}^n a_k $를 입력하면 된다"
   ]
  },
  {
   "cell_type": "code",
   "execution_count": null,
   "id": "40325f5b-6063-4cc5-af86-37d862045071",
   "metadata": {},
   "outputs": [],
   "source": []
  },
  {
   "cell_type": "markdown",
   "id": "68436a49-8aa9-492d-9327-0604a29a0d7c",
   "metadata": {},
   "source": [
    "### 9. 행렬"
   ]
  },
  {
   "cell_type": "markdown",
   "id": "756948c5-8742-4d23-940b-a18bc3ed64bc",
   "metadata": {},
   "source": [
    "$$A=\\begin{bmatrix}\n",
    "0 & 1 & 2\\\\\n",
    "3 & 4 & 5\\\\\n",
    "6 & 7 & 8\n",
    "\\end{bmatrix}\n",
    "$$"
   ]
  },
  {
   "cell_type": "raw",
   "id": "226be244-824e-4293-9fd4-daa050cca6a2",
   "metadata": {},
   "source": [
    "$$A=\\begin{bmatrix}\n",
    "0 & 1 & 2\\\\\n",
    "3 &  4 & 5\\\\\n",
    "6 & 7 & 8\n",
    "\\end{bmatrix}\n",
    "$$\n",
    " 이와 같이 입력하면 됨.\n"
   ]
  },
  {
   "cell_type": "markdown",
   "id": "76a7da08-af33-4179-974a-8b40c88d8f69",
   "metadata": {},
   "source": [
    "### 11.적분"
   ]
  },
  {
   "cell_type": "markdown",
   "id": "f4d62167-cf82-420c-8ed7-2cad5c8a2a06",
   "metadata": {},
   "source": [
    "$$\\int_{0}^{1}{f(x)dx}$$"
   ]
  },
  {
   "cell_type": "raw",
   "id": "c94c6720-602d-4e17-876e-d02b512895d7",
   "metadata": {},
   "source": [
    "$$\\int_{0}^{1}{f(x)dx}$$ 이와 같이 입력하면 됨."
   ]
  }
 ],
 "metadata": {
  "kernelspec": {
   "display_name": "Python 3",
   "language": "python",
   "name": "python3"
  },
  "language_info": {
   "codemirror_mode": {
    "name": "ipython",
    "version": 3
   },
   "file_extension": ".py",
   "mimetype": "text/x-python",
   "name": "python",
   "nbconvert_exporter": "python",
   "pygments_lexer": "ipython3",
   "version": "3.8.8"
  }
 },
 "nbformat": 4,
 "nbformat_minor": 5
}
