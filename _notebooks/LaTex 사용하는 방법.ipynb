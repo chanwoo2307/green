{
 "cells": [
  {
   "cell_type": "markdown",
   "id": "7f38a113-7fee-42a1-90e6-45f9e948e07a",
   "metadata": {},
   "source": [
    "## LaTex 사용하는 방법(수식 만드는 법)"
   ]
  },
  {
   "cell_type": "code",
   "execution_count": null,
   "id": "683ad699-e820-4241-b240-32acf93b9c19",
   "metadata": {},
   "outputs": [],
   "source": []
  },
  {
   "cell_type": "markdown",
   "id": "e5084fc8-d4cb-4cfc-b57b-1f02cd0f713c",
   "metadata": {},
   "source": [
    "Jupyter notebook에서는 LaTex를 이용하여 수식을 표기할 수 있다."
   ]
  },
  {
   "cell_type": "markdown",
   "id": "29b2de37-51cf-4f8a-a406-bfac8dc04136",
   "metadata": {},
   "source": [
    "### 1. 수식"
   ]
  },
  {
   "cell_type": "markdown",
   "id": "f047a831-b015-4922-a9f2-53dc48685144",
   "metadata": {},
   "source": [
    "아래와 같은 수식을 작성하려면 $y=2x+1$"
   ]
  },
  {
   "cell_type": "raw",
   "id": "84f7b348-a80d-49b9-9a98-44f55b300498",
   "metadata": {},
   "source": [
    "markdown을 체크하고 $$y=2x+1$$ 입력한다"
   ]
  },
  {
   "cell_type": "markdown",
   "id": "b48d7e9a-0cac-43b6-baef-56a6982a867d",
   "metadata": {},
   "source": [
    "1. $y=2x+1$"
   ]
  },
  {
   "cell_type": "markdown",
   "id": "7711c231-5cef-4be1-814c-71c47b10f7ba",
   "metadata": {},
   "source": [
    "2. $$y=2x+1$$"
   ]
  },
  {
   "cell_type": "markdown",
   "id": "65d5270f-28e2-4322-aec9-b9987af08c80",
   "metadata": {},
   "source": [
    "1과 2의 차이는 수식의 $의 개수 차이이다"
   ]
  },
  {
   "cell_type": "raw",
   "id": "249594a4-f9e3-441c-8125-988f5e7faa9c",
   "metadata": {},
   "source": [
    "수식을 글과 함께 사용하고 싶으면 $ 수식 $ 을 입력해야하고\n",
    "한줄로 분리해서 사용하고 싶으면 $$ 수식 $$을 입력하면 된다."
   ]
  },
  {
   "cell_type": "code",
   "execution_count": null,
   "id": "8f84b42f-7622-481f-a6d5-b4e654e0962d",
   "metadata": {},
   "outputs": [],
   "source": []
  },
  {
   "cell_type": "markdown",
   "id": "2066185a-0741-485e-8d81-526123d2d7d5",
   "metadata": {},
   "source": [
    "### 2. 첨자"
   ]
  },
  {
   "cell_type": "markdown",
   "id": "f5e6c47e-3cdd-47ff-a49d-e628cd147af9",
   "metadata": {},
   "source": [
    "아래첨자 $a_1$"
   ]
  },
  {
   "cell_type": "raw",
   "id": "7c6dbde7-2613-4703-ae7a-8939d12a8ade",
   "metadata": {},
   "source": [
    "$a_1$ 를 입력하면 된다."
   ]
  },
  {
   "cell_type": "markdown",
   "id": "9e097820-d8cd-41ae-bfd9-d44888f779c4",
   "metadata": {},
   "source": [
    "아래첨자 $a_{ij}$"
   ]
  },
  {
   "cell_type": "raw",
   "id": "77fcdb2d-69e4-4c3c-b5df-ca6808ca285b",
   "metadata": {},
   "source": [
    "$a_{ij}$ 를 입력하면 된다."
   ]
  },
  {
   "cell_type": "markdown",
   "id": "f013eb11-4823-446b-a11d-483f9fcbbe74",
   "metadata": {},
   "source": [
    "위첨자 $b^2$"
   ]
  },
  {
   "cell_type": "markdown",
   "id": "55d4c9a7-87e6-48f2-a229-a60bc44f5039",
   "metadata": {},
   "source": [
    "$b^2$ 를 입력하면 된다."
   ]
  },
  {
   "cell_type": "markdown",
   "id": "1a0517db-820a-48e9-a515-5f639d17e2a1",
   "metadata": {},
   "source": [
    "위첨자 $b^{ij}$"
   ]
  },
  {
   "cell_type": "raw",
   "id": "8a21acaa-029c-4344-a20b-3f5f62e8c5ae",
   "metadata": {},
   "source": [
    "$b^{ij}$ 를 입력하면 된다."
   ]
  },
  {
   "cell_type": "markdown",
   "id": "f71cc56e-4d7b-4626-8b15-f768ba96de6e",
   "metadata": {},
   "source": [
    "$c_1^2$"
   ]
  },
  {
   "cell_type": "raw",
   "id": "b01ff2d1-9b03-4bf8-9c01-5adf50d98c9d",
   "metadata": {},
   "source": [
    "$c_1^2$ 를 입력하면 된다."
   ]
  },
  {
   "cell_type": "code",
   "execution_count": null,
   "id": "516cd546-1123-410a-831e-296bbf6a56db",
   "metadata": {},
   "outputs": [],
   "source": []
  },
  {
   "cell_type": "markdown",
   "id": "46971cff-fd6f-4025-ad5a-2b3e53d39b5d",
   "metadata": {},
   "source": [
    "### 3. 다항식"
   ]
  },
  {
   "cell_type": "markdown",
   "id": "d833708a-a9de-44d4-bd10-2c8d5f30497e",
   "metadata": {},
   "source": [
    "$ y=x^3+2x^2+x+3 $"
   ]
  },
  {
   "cell_type": "raw",
   "id": "18f88547-4545-48ef-ae1f-8cb3a0f5893f",
   "metadata": {},
   "source": [
    "$ y=x^3+2x^2+x+3 $를 입력하면 된다."
   ]
  },
  {
   "cell_type": "code",
   "execution_count": null,
   "id": "f83bfe93-7d75-493a-a796-6179d7603a08",
   "metadata": {},
   "outputs": [],
   "source": []
  },
  {
   "cell_type": "code",
   "execution_count": null,
   "id": "5fa396f6-e197-41df-9f8c-83b34cfdf178",
   "metadata": {},
   "outputs": [],
   "source": [
    "4. 제곱근"
   ]
  },
  {
   "cell_type": "markdown",
   "id": "7dd9113d-ecaf-4fa6-97ab-70eaa3c83f28",
   "metadata": {},
   "source": [
    "$ y=\\sqrt x$ "
   ]
  },
  {
   "cell_type": "raw",
   "id": "9c8cf12b-0619-494b-876f-0b580a106534",
   "metadata": {},
   "source": [
    "$y=\\sqrt x$ 를 입력하면 된다."
   ]
  }
 ],
 "metadata": {
  "kernelspec": {
   "display_name": "Python 3",
   "language": "python",
   "name": "python3"
  },
  "language_info": {
   "codemirror_mode": {
    "name": "ipython",
    "version": 3
   },
   "file_extension": ".py",
   "mimetype": "text/x-python",
   "name": "python",
   "nbconvert_exporter": "python",
   "pygments_lexer": "ipython3",
   "version": "3.8.8"
  }
 },
 "nbformat": 4,
 "nbformat_minor": 5
}
