{
 "cells": [
  {
   "cell_type": "markdown",
   "id": "7f38a113-7fee-42a1-90e6-45f9e948e07a",
   "metadata": {},
   "source": [
    "## LaTex 사용하는 방법(수식 만드는 법)"
   ]
  },
  {
   "cell_type": "code",
   "execution_count": null,
   "id": "683ad699-e820-4241-b240-32acf93b9c19",
   "metadata": {},
   "outputs": [],
   "source": []
  },
  {
   "cell_type": "markdown",
   "id": "e5084fc8-d4cb-4cfc-b57b-1f02cd0f713c",
   "metadata": {},
   "source": [
    "Jupyter notebook에서는 LaTex를 이용하여 수식을 표기할 수 있다."
   ]
  },
  {
   "cell_type": "markdown",
   "id": "29b2de37-51cf-4f8a-a406-bfac8dc04136",
   "metadata": {},
   "source": [
    "### 1. 수식"
   ]
  },
  {
   "cell_type": "markdown",
   "id": "f047a831-b015-4922-a9f2-53dc48685144",
   "metadata": {},
   "source": [
    "아래와 같은 수식을 작성하려면 $y=2x+1$"
   ]
  },
  {
   "cell_type": "raw",
   "id": "84f7b348-a80d-49b9-9a98-44f55b300498",
   "metadata": {},
   "source": [
    "markdown을 체크하고 $$y=2x+1$$ 입력한다"
   ]
  },
  {
   "cell_type": "markdown",
   "id": "b48d7e9a-0cac-43b6-baef-56a6982a867d",
   "metadata": {},
   "source": [
    "1. $y=2x+1$"
   ]
  },
  {
   "cell_type": "markdown",
   "id": "7711c231-5cef-4be1-814c-71c47b10f7ba",
   "metadata": {},
   "source": [
    "2. $$y=2x+1$$"
   ]
  },
  {
   "cell_type": "markdown",
   "id": "65d5270f-28e2-4322-aec9-b9987af08c80",
   "metadata": {},
   "source": [
    "1과 2의 차이는 수식의 $의 개수 차이이다"
   ]
  },
  {
   "cell_type": "raw",
   "id": "249594a4-f9e3-441c-8125-988f5e7faa9c",
   "metadata": {},
   "source": [
    "수식을 글과 함께 사용하고 싶으면 $ 수식 $ 을 입력해야하고\n",
    "한줄로 분리해서 사용하고 싶으면 $$ 수식 $$을 입력하면 된다."
   ]
  },
  {
   "cell_type": "code",
   "execution_count": null,
   "id": "8f84b42f-7622-481f-a6d5-b4e654e0962d",
   "metadata": {},
   "outputs": [],
   "source": []
  },
  {
   "cell_type": "markdown",
   "id": "2066185a-0741-485e-8d81-526123d2d7d5",
   "metadata": {},
   "source": [
    "### 2. 첨자"
   ]
  },
  {
   "cell_type": "markdown",
   "id": "f5e6c47e-3cdd-47ff-a49d-e628cd147af9",
   "metadata": {},
   "source": [
    "아래첨자 $a_1$"
   ]
  },
  {
   "cell_type": "raw",
   "id": "7c6dbde7-2613-4703-ae7a-8939d12a8ade",
   "metadata": {},
   "source": [
    "$a_1$ 와 같이 입력하면 된다."
   ]
  },
  {
   "cell_type": "markdown",
   "id": "9e097820-d8cd-41ae-bfd9-d44888f779c4",
   "metadata": {},
   "source": [
    "아래첨자 $a_{ij}$"
   ]
  },
  {
   "cell_type": "raw",
   "id": "77fcdb2d-69e4-4c3c-b5df-ca6808ca285b",
   "metadata": {},
   "source": [
    "$a_{ij}$ 와 같이 입력하면 된다."
   ]
  },
  {
   "cell_type": "markdown",
   "id": "f013eb11-4823-446b-a11d-483f9fcbbe74",
   "metadata": {},
   "source": [
    "위첨자 $b^2$"
   ]
  },
  {
   "cell_type": "code",
   "execution_count": 11,
   "id": "dd7686ad-d69b-4c06-b3ff-3314526c671a",
   "metadata": {},
   "outputs": [
    {
     "ename": "SyntaxError",
     "evalue": "invalid syntax (<ipython-input-11-10b8e807d199>, line 1)",
     "output_type": "error",
     "traceback": [
      "\u001b[0;36m  File \u001b[0;32m\"<ipython-input-11-10b8e807d199>\"\u001b[0;36m, line \u001b[0;32m1\u001b[0m\n\u001b[0;31m    $b^2$\u001b[0m\n\u001b[0m    ^\u001b[0m\n\u001b[0;31mSyntaxError\u001b[0m\u001b[0;31m:\u001b[0m invalid syntax\n"
     ]
    }
   ],
   "source": [
    "$b^2$"
   ]
  }
 ],
 "metadata": {
  "kernelspec": {
   "display_name": "Python 3",
   "language": "python",
   "name": "python3"
  },
  "language_info": {
   "codemirror_mode": {
    "name": "ipython",
    "version": 3
   },
   "file_extension": ".py",
   "mimetype": "text/x-python",
   "name": "python",
   "nbconvert_exporter": "python",
   "pygments_lexer": "ipython3",
   "version": "3.8.8"
  }
 },
 "nbformat": 4,
 "nbformat_minor": 5
}
